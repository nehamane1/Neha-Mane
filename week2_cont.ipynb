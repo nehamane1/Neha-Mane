{
  "nbformat": 4,
  "nbformat_minor": 0,
  "metadata": {
    "colab": {
      "name": "week2.cont.ipynb",
      "provenance": [],
      "authorship_tag": "ABX9TyOlAkqMHjhnYcnDhjMIWGn1",
      "include_colab_link": true
    },
    "kernelspec": {
      "name": "python3",
      "display_name": "Python 3"
    }
  },
  "cells": [
    {
      "cell_type": "markdown",
      "metadata": {
        "id": "view-in-github",
        "colab_type": "text"
      },
      "source": [
        "<a href=\"https://colab.research.google.com/github/nehamane1/Neha-Mane/blob/master/week2_cont.ipynb\" target=\"_parent\"><img src=\"https://colab.research.google.com/assets/colab-badge.svg\" alt=\"Open In Colab\"/></a>"
      ]
    },
    {
      "cell_type": "code",
      "metadata": {
        "id": "5wUobY8K7jyZ",
        "outputId": "42d36980-5e21-44cc-c295-c8b86babc9a5",
        "colab": {
          "base_uri": "https://localhost:8080/"
        }
      },
      "source": [
        "names=input(\"enter best 11 players name with space delimiter\")\n",
        "list_name=names.split(\" \")\n",
        "print(\"The 11 best players are {}\".format(list_name))\n",
        "\n",
        "\n",
        "  \n"
      ],
      "execution_count": 2,
      "outputs": [
        {
          "output_type": "stream",
          "text": [
            "enter best 11 players name with space delimitera ab abc neh shav\n",
            "The 11 best players are ['a', 'ab', 'abc', 'neh', 'shav']\n"
          ],
          "name": "stdout"
        }
      ]
    },
    {
      "cell_type": "code",
      "metadata": {
        "id": "4sL6xoiDrDOk",
        "outputId": "1f71fa79-b08a-4b96-8060-9f83f83bd579",
        "colab": {
          "base_uri": "https://localhost:8080/"
        }
      },
      "source": [
        "num_list=[1,2,3,4,5,6,7,8,9,10]\n",
        "for x in num_list:\n",
        "  print(\"{} * {} *{} = {}\" .format(x,x,x,x*x*x))"
      ],
      "execution_count": 3,
      "outputs": [
        {
          "output_type": "stream",
          "text": [
            "1 * 1 *1 = 1\n",
            "2 * 2 *2 = 8\n",
            "3 * 3 *3 = 27\n",
            "4 * 4 *4 = 64\n",
            "5 * 5 *5 = 125\n",
            "6 * 6 *6 = 216\n",
            "7 * 7 *7 = 343\n",
            "8 * 8 *8 = 512\n",
            "9 * 9 *9 = 729\n",
            "10 * 10 *10 = 1000\n"
          ],
          "name": "stdout"
        }
      ]
    },
    {
      "cell_type": "code",
      "metadata": {
        "id": "Git1dPHmeufj",
        "outputId": "67a54d81-6110-4564-f1d8-7d7e9060a67f",
        "colab": {
          "base_uri": "https://localhost:8080/"
        }
      },
      "source": [
        "#Prime number\n",
        "lower = 1\n",
        "upper = 30\n",
        "\n",
        "print(\"Prime numbers between\", lower, \"and\", upper, \"are:\")\n",
        "\n",
        "for num in range(lower, upper + 1):\n",
        "   # all prime numbers are greater than 1\n",
        "   if num > 1:\n",
        "       for i in range(2, num):\n",
        "           if (num % i) == 0:\n",
        "               break\n",
        "       else:\n",
        "           print(num)"
      ],
      "execution_count": 4,
      "outputs": [
        {
          "output_type": "stream",
          "text": [
            "Prime numbers between 1 and 30 are:\n",
            "2\n",
            "3\n",
            "5\n",
            "7\n",
            "11\n",
            "13\n",
            "17\n",
            "19\n",
            "23\n",
            "29\n"
          ],
          "name": "stdout"
        }
      ]
    },
    {
      "cell_type": "code",
      "metadata": {
        "id": "7yN4ho54xDtN"
      },
      "source": [
        "def prime_check():\n",
        "  x=int(input(\"enter a number\"))\n",
        "  c=0 #counter\n",
        "  a=1\n",
        "  while a<=x:\n",
        "    rem=x%a\n",
        "    if rem==0:\n",
        "      c=c+1\n",
        "    a=a+1\n",
        "  if c==2:\n",
        "    print(\"prime number\")\n",
        "  else:\n",
        "    print(\"non prime\")"
      ],
      "execution_count": 8,
      "outputs": []
    },
    {
      "cell_type": "code",
      "metadata": {
        "id": "LXPcZYX-zwmM",
        "outputId": "b3aab14c-4f03-4f15-86a2-e72cb4b3ccaf",
        "colab": {
          "base_uri": "https://localhost:8080/"
        }
      },
      "source": [
        "prime_check()"
      ],
      "execution_count": 11,
      "outputs": [
        {
          "output_type": "stream",
          "text": [
            "enter a number7\n",
            "prime number\n"
          ],
          "name": "stdout"
        }
      ]
    },
    {
      "cell_type": "code",
      "metadata": {
        "id": "PWQNEISu0YO0"
      },
      "source": [
        ""
      ],
      "execution_count": null,
      "outputs": []
    }
  ]
}