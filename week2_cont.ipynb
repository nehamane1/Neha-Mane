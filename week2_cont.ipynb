{
  "nbformat": 4,
  "nbformat_minor": 0,
  "metadata": {
    "colab": {
      "name": "week2.cont.ipynb",
      "provenance": [],
      "authorship_tag": "ABX9TyNd26Bn5NDVFW27SyIcKlhq",
      "include_colab_link": true
    },
    "kernelspec": {
      "name": "python3",
      "display_name": "Python 3"
    }
  },
  "cells": [
    {
      "cell_type": "markdown",
      "metadata": {
        "id": "view-in-github",
        "colab_type": "text"
      },
      "source": [
        "<a href=\"https://colab.research.google.com/github/nehamane1/Neha-Mane/blob/master/week2_cont.ipynb\" target=\"_parent\"><img src=\"https://colab.research.google.com/assets/colab-badge.svg\" alt=\"Open In Colab\"/></a>"
      ]
    },
    {
      "cell_type": "code",
      "metadata": {
        "id": "5wUobY8K7jyZ",
        "outputId": "42d36980-5e21-44cc-c295-c8b86babc9a5",
        "colab": {
          "base_uri": "https://localhost:8080/"
        }
      },
      "source": [
        "names=input(\"enter best 11 players name with space delimiter\")\n",
        "list_name=names.split(\" \")\n",
        "print(\"The 11 best players are {}\".format(list_name))\n",
        "\n",
        "\n",
        "  \n"
      ],
      "execution_count": 2,
      "outputs": [
        {
          "output_type": "stream",
          "text": [
            "enter best 11 players name with space delimitera ab abc neh shav\n",
            "The 11 best players are ['a', 'ab', 'abc', 'neh', 'shav']\n"
          ],
          "name": "stdout"
        }
      ]
    },
    {
      "cell_type": "code",
      "metadata": {
        "id": "Git1dPHmeufj"
      },
      "source": [
        ""
      ],
      "execution_count": null,
      "outputs": []
    }
  ]
}