{
 "cells": [
  {
   "cell_type": "code",
   "execution_count": 1,
   "metadata": {},
   "outputs": [],
   "source": [
    "import pandas as pd \n",
    "import numpy as np                     # For mathematical calculations \n",
    "import seaborn as sns                  # For data visualization \n",
    "import matplotlib.pyplot as plt        # For plotting graphs \n",
    "%matplotlib inline \n",
    "#import warnings \n",
    "import warnings \n",
    "warnings.filterwarnings('ignore')\n",
    "# To ignore any warnings warnings.filterwarnings(\"ignore\")"
   ]
  },
  {
   "cell_type": "code",
   "execution_count": 2,
   "metadata": {},
   "outputs": [],
   "source": [
    "train=pd.read_csv(\"train.csv\") \n",
    "test=pd.read_csv(\"test.csv\")"
   ]
  },
  {
   "cell_type": "code",
   "execution_count": 3,
   "metadata": {},
   "outputs": [],
   "source": [
    "train_original=train.copy() \n",
    "test_original=test.copy()"
   ]
  },
  {
   "cell_type": "code",
   "execution_count": 4,
   "metadata": {},
   "outputs": [
    {
     "data": {
      "text/plain": [
       "Index(['Loan_ID', 'Gender', 'Married', 'Dependents', 'Education',\n",
       "       'Self_Employed', 'ApplicantIncome', 'CoapplicantIncome', 'LoanAmount',\n",
       "       'Loan_Amount_Term', 'Credit_History', 'Property_Area', 'Loan_Status'],\n",
       "      dtype='object')"
      ]
     },
     "execution_count": 4,
     "metadata": {},
     "output_type": "execute_result"
    }
   ],
   "source": [
    "train.columns"
   ]
  },
  {
   "cell_type": "code",
   "execution_count": 5,
   "metadata": {},
   "outputs": [
    {
     "data": {
      "text/plain": [
       "Index(['Loan_ID', 'Gender', 'Married', 'Dependents', 'Education',\n",
       "       'Self_Employed', 'ApplicantIncome', 'CoapplicantIncome', 'LoanAmount',\n",
       "       'Loan_Amount_Term', 'Credit_History', 'Property_Area'],\n",
       "      dtype='object')"
      ]
     },
     "execution_count": 5,
     "metadata": {},
     "output_type": "execute_result"
    }
   ],
   "source": [
    "test.columns"
   ]
  },
  {
   "cell_type": "code",
   "execution_count": 6,
   "metadata": {},
   "outputs": [
    {
     "data": {
      "text/plain": [
       "Loan_ID               object\n",
       "Gender                object\n",
       "Married               object\n",
       "Dependents            object\n",
       "Education             object\n",
       "Self_Employed         object\n",
       "ApplicantIncome        int64\n",
       "CoapplicantIncome    float64\n",
       "LoanAmount           float64\n",
       "Loan_Amount_Term     float64\n",
       "Credit_History       float64\n",
       "Property_Area         object\n",
       "Loan_Status           object\n",
       "dtype: object"
      ]
     },
     "execution_count": 6,
     "metadata": {},
     "output_type": "execute_result"
    }
   ],
   "source": [
    "train.dtypes"
   ]
  },
  {
   "cell_type": "code",
   "execution_count": 7,
   "metadata": {},
   "outputs": [
    {
     "data": {
      "text/plain": [
       "Loan_ID               object\n",
       "Gender                object\n",
       "Married               object\n",
       "Dependents            object\n",
       "Education             object\n",
       "Self_Employed         object\n",
       "ApplicantIncome        int64\n",
       "CoapplicantIncome      int64\n",
       "LoanAmount           float64\n",
       "Loan_Amount_Term     float64\n",
       "Credit_History       float64\n",
       "Property_Area         object\n",
       "dtype: object"
      ]
     },
     "execution_count": 7,
     "metadata": {},
     "output_type": "execute_result"
    }
   ],
   "source": [
    "test.dtypes"
   ]
  },
  {
   "cell_type": "code",
   "execution_count": 8,
   "metadata": {},
   "outputs": [
    {
     "data": {
      "text/plain": [
       "(614, 13)"
      ]
     },
     "execution_count": 8,
     "metadata": {},
     "output_type": "execute_result"
    }
   ],
   "source": [
    "train.shape"
   ]
  },
  {
   "cell_type": "code",
   "execution_count": 9,
   "metadata": {},
   "outputs": [
    {
     "data": {
      "text/plain": [
       "(367, 12)"
      ]
     },
     "execution_count": 9,
     "metadata": {},
     "output_type": "execute_result"
    }
   ],
   "source": [
    "test.shape"
   ]
  },
  {
   "cell_type": "code",
   "execution_count": 10,
   "metadata": {},
   "outputs": [
    {
     "data": {
      "text/plain": [
       "Y    422\n",
       "N    192\n",
       "Name: Loan_Status, dtype: int64"
      ]
     },
     "execution_count": 10,
     "metadata": {},
     "output_type": "execute_result"
    }
   ],
   "source": [
    "train['Loan_Status'].value_counts()"
   ]
  },
  {
   "cell_type": "code",
   "execution_count": 11,
   "metadata": {},
   "outputs": [
    {
     "data": {
      "text/plain": [
       "1.0    475\n",
       "0.0     89\n",
       "Name: Credit_History, dtype: int64"
      ]
     },
     "execution_count": 11,
     "metadata": {},
     "output_type": "execute_result"
    }
   ],
   "source": [
    "train['Credit_History'].value_counts()"
   ]
  },
  {
   "cell_type": "code",
   "execution_count": 12,
   "metadata": {},
   "outputs": [
    {
     "data": {
      "text/plain": [
       "Semiurban    233\n",
       "Urban        202\n",
       "Rural        179\n",
       "Name: Property_Area, dtype: int64"
      ]
     },
     "execution_count": 12,
     "metadata": {},
     "output_type": "execute_result"
    }
   ],
   "source": [
    "train['Property_Area'].value_counts()"
   ]
  },
  {
   "cell_type": "code",
   "execution_count": 13,
   "metadata": {
    "scrolled": false
   },
   "outputs": [
    {
     "data": {
      "text/plain": [
       "2500     9\n",
       "4583     6\n",
       "2600     6\n",
       "6000     6\n",
       "5000     5\n",
       "4166     5\n",
       "3333     5\n",
       "3750     5\n",
       "2400     4\n",
       "8333     4\n",
       "2583     4\n",
       "6250     4\n",
       "3500     3\n",
       "5417     3\n",
       "3000     3\n",
       "2333     3\n",
       "10000    3\n",
       "3166     3\n",
       "3167     3\n",
       "4000     3\n",
       "4333     3\n",
       "3400     3\n",
       "4750     2\n",
       "3173     2\n",
       "4300     2\n",
       "5500     2\n",
       "3510     2\n",
       "3717     2\n",
       "2917     2\n",
       "3466     2\n",
       "        ..\n",
       "2755     1\n",
       "4735     1\n",
       "2720     1\n",
       "3716     1\n",
       "9357     1\n",
       "2698     1\n",
       "2699     1\n",
       "3727     1\n",
       "4755     1\n",
       "2708     1\n",
       "4758     1\n",
       "14999    1\n",
       "15000    1\n",
       "2717     1\n",
       "2718     1\n",
       "674      1\n",
       "3775     1\n",
       "3748     1\n",
       "5124     1\n",
       "5829     1\n",
       "5800     1\n",
       "2149     1\n",
       "3762     1\n",
       "4931     1\n",
       "5815     1\n",
       "5818     1\n",
       "5819     1\n",
       "5821     1\n",
       "2750     1\n",
       "3691     1\n",
       "Name: ApplicantIncome, Length: 505, dtype: int64"
      ]
     },
     "execution_count": 13,
     "metadata": {},
     "output_type": "execute_result"
    }
   ],
   "source": [
    "train['ApplicantIncome'].value_counts()"
   ]
  },
  {
   "cell_type": "code",
   "execution_count": 14,
   "metadata": {},
   "outputs": [
    {
     "data": {
      "text/plain": [
       "360.0    512\n",
       "180.0     44\n",
       "480.0     15\n",
       "300.0     13\n",
       "84.0       4\n",
       "240.0      4\n",
       "120.0      3\n",
       "36.0       2\n",
       "60.0       2\n",
       "12.0       1\n",
       "Name: Loan_Amount_Term, dtype: int64"
      ]
     },
     "execution_count": 14,
     "metadata": {},
     "output_type": "execute_result"
    }
   ],
   "source": [
    "train['Loan_Amount_Term'].value_counts()"
   ]
  },
  {
   "cell_type": "code",
   "execution_count": 15,
   "metadata": {},
   "outputs": [
    {
     "data": {
      "text/plain": [
       "Y    0.687296\n",
       "N    0.312704\n",
       "Name: Loan_Status, dtype: float64"
      ]
     },
     "execution_count": 15,
     "metadata": {},
     "output_type": "execute_result"
    }
   ],
   "source": [
    "train['Loan_Status'].value_counts(normalize=True)"
   ]
  },
  {
   "cell_type": "code",
   "execution_count": 16,
   "metadata": {},
   "outputs": [
    {
     "data": {
      "text/plain": [
       "<matplotlib.axes._subplots.AxesSubplot at 0x1f7bd5dbdd8>"
      ]
     },
     "execution_count": 16,
     "metadata": {},
     "output_type": "execute_result"
    },
    {
     "data": {
      "image/png": "[encoded data removed]",
      "text/plain": [
       "<Figure size 432x288 with 1 Axes>"
      ]
     },
     "metadata": {
      "needs_background": "light"
     },
     "output_type": "display_data"
    }
   ],
   "source": [
    "train['Property_Area'].value_counts().plot.bar()"
   ]
  },
  {
   "cell_type": "code",
   "execution_count": 17,
   "metadata": {},
   "outputs": [
    {
     "data": {
      "text/plain": [
       "<matplotlib.axes._subplots.AxesSubplot at 0x1f7bd957c50>"
      ]
     },
     "execution_count": 17,
     "metadata": {},
     "output_type": "execute_result"
    },
    {
     "data": {
      "image/png": "[encoded data removed]",
      "text/plain": [
       "<Figure size 432x288 with 1 Axes>"
      ]
     },
     "metadata": {
      "needs_background": "light"
     },
     "output_type": "display_data"
    }
   ],
   "source": [
    "test['Property_Area'].value_counts().plot.bar()"
   ]
  },
  {
   "cell_type": "code",
   "execution_count": 18,
   "metadata": {},
   "outputs": [
    {
     "data": {
      "text/plain": [
       "array([[<matplotlib.axes._subplots.AxesSubplot object at 0x000001F7BD61D198>,\n",
       "        <matplotlib.axes._subplots.AxesSubplot object at 0x000001F7BDA367B8>],\n",
       "       [<matplotlib.axes._subplots.AxesSubplot object at 0x000001F7BDA69D68>,\n",
       "        <matplotlib.axes._subplots.AxesSubplot object at 0x000001F7BDAA6358>],\n",
       "       [<matplotlib.axes._subplots.AxesSubplot object at 0x000001F7BDAD6908>,\n",
       "        <matplotlib.axes._subplots.AxesSubplot object at 0x000001F7BDB09EB8>]],\n",
       "      dtype=object)"
      ]
     },
     "execution_count": 18,
     "metadata": {},
     "output_type": "execute_result"
    },
    {
     "data": {
      "image/png": "[encoded data removed]",
      "text/plain": [
       "<Figure size 432x288 with 6 Axes>"
      ]
     },
     "metadata": {
      "needs_background": "light"
     },
     "output_type": "display_data"
    }
   ],
   "source": [
    "train.hist()"
   ]
  },
  {
   "cell_type": "code",
   "execution_count": 19,
   "metadata": {},
   "outputs": [
    {
     "data": {
      "text/plain": [
       "array([[<matplotlib.axes._subplots.AxesSubplot object at 0x000001F7BDA02CC0>,\n",
       "        <matplotlib.axes._subplots.AxesSubplot object at 0x000001F7BDC845C0>],\n",
       "       [<matplotlib.axes._subplots.AxesSubplot object at 0x000001F7BDCADB70>,\n",
       "        <matplotlib.axes._subplots.AxesSubplot object at 0x000001F7BDCEA0F0>],\n",
       "       [<matplotlib.axes._subplots.AxesSubplot object at 0x000001F7BDD1B6A0>,\n",
       "        <matplotlib.axes._subplots.AxesSubplot object at 0x000001F7BDD4DC50>]],\n",
       "      dtype=object)"
      ]
     },
     "execution_count": 19,
     "metadata": {},
     "output_type": "execute_result"
    },
    {
     "data": {
      "image/png": "[encoded data removed]",
      "text/plain": [
       "<Figure size 432x288 with 6 Axes>"
      ]
     },
     "metadata": {
      "needs_background": "light"
     },
     "output_type": "display_data"
    }
   ],
   "source": [
    "test.hist()"
   ]
  },
  {
   "cell_type": "code",
   "execution_count": 20,
   "metadata": {},
   "outputs": [
    {
     "data": {
      "image/png": "[encoded data removed]",
      "text/plain": [
       "<Figure size 432x288 with 1 Axes>"
      ]
     },
     "metadata": {
      "needs_background": "light"
     },
     "output_type": "display_data"
    }
   ],
   "source": [
    "plt.bar(train['ApplicantIncome'], train['LoanAmount']) \n",
    "plt.xlabel(\"ApplicantIncome\") \n",
    "plt.ylabel(\"LoanAmount\") \n",
    "plt.show() "
   ]
  },
  {
   "cell_type": "code",
   "execution_count": 21,
   "metadata": {},
   "outputs": [
    {
     "data": {
      "image/png": "[encoded data removed]",
      "text/plain": [
       "<Figure size 432x288 with 1 Axes>"
      ]
     },
     "metadata": {
      "needs_background": "light"
     },
     "output_type": "display_data"
    }
   ],
   "source": [
    "plt.boxplot(train['ApplicantIncome'])\n",
    "plt.show()"
   ]
  },
  {
   "cell_type": "code",
   "execution_count": 22,
   "metadata": {},
   "outputs": [
    {
     "data": {
      "image/png": "[encoded data removed]",
      "text/plain": [
       "<Figure size 432x288 with 1 Axes>"
      ]
     },
     "metadata": {
      "needs_background": "light"
     },
     "output_type": "display_data"
    }
   ],
   "source": [
    "plt.bar(train['Education'],train['ApplicantIncome'])\n",
    "plt.show()"
   ]
  },
  {
   "cell_type": "code",
   "execution_count": 23,
   "metadata": {},
   "outputs": [
    {
     "data": {
      "text/plain": [
       "<matplotlib.axes._subplots.AxesSubplot at 0x1f7be46a438>"
      ]
     },
     "execution_count": 23,
     "metadata": {},
     "output_type": "execute_result"
    },
    {
     "data": {
      "image/png": "[encoded data removed]",
      "text/plain": [
       "<Figure size 432x288 with 1 Axes>"
      ]
     },
     "metadata": {
      "needs_background": "light"
     },
     "output_type": "display_data"
    }
   ],
   "source": [
    "sns.distplot(train['ApplicantIncome'])"
   ]
  },
  {
   "cell_type": "code",
   "execution_count": 24,
   "metadata": {},
   "outputs": [
    {
     "data": {
      "text/plain": [
       "<matplotlib.axes._subplots.AxesSubplot at 0x1f7be3fca90>"
      ]
     },
     "execution_count": 24,
     "metadata": {},
     "output_type": "execute_result"
    },
    {
     "data": {
      "image/png": "[encoded data removed]",
      "text/plain": [
       "<Figure size 288x288 with 1 Axes>"
      ]
     },
     "metadata": {
      "needs_background": "light"
     },
     "output_type": "display_data"
    }
   ],
   "source": [
    "Gender=pd.crosstab(train['Gender'],train['Loan_Status'])\n",
    "Gender.div(Gender.sum(1).astype(float), axis=0).plot(kind=\"bar\", stacked=True, figsize=(4,4))"
   ]
  },
  {
   "cell_type": "code",
   "execution_count": 25,
   "metadata": {},
   "outputs": [
    {
     "data": {
      "image/png": "[encoded data removed]",
      "text/plain": [
       "<Figure size 288x288 with 1 Axes>"
      ]
     },
     "metadata": {
      "needs_background": "light"
     },
     "output_type": "display_data"
    },
    {
     "data": {
      "image/png": "[encoded data removed]",
      "text/plain": [
       "<Figure size 432x288 with 1 Axes>"
      ]
     },
     "metadata": {
      "needs_background": "light"
     },
     "output_type": "display_data"
    },
    {
     "data": {
      "image/png": "[encoded data removed]",
      "text/plain": [
       "<Figure size 288x288 with 1 Axes>"
      ]
     },
     "metadata": {
      "needs_background": "light"
     },
     "output_type": "display_data"
    },
    {
     "data": {
      "image/png": "[encoded data removed]",
      "text/plain": [
       "<Figure size 288x288 with 1 Axes>"
      ]
     },
     "metadata": {
      "needs_background": "light"
     },
     "output_type": "display_data"
    }
   ],
   "source": [
    "Married=pd.crosstab(train['Married'],train['Loan_Status']) \n",
    "Dependents=pd.crosstab(train['Dependents'],train['Loan_Status']) \n",
    "Education=pd.crosstab(train['Education'],train['Loan_Status'])\n",
    "Self_Employed=pd.crosstab(train['Self_Employed'],train['Loan_Status']) \n",
    "Married.div(Married.sum(1).astype(float), axis=0).plot(kind=\"bar\", stacked=True, figsize=(4,4))\n",
    "plt.show() \n",
    "Dependents.div(Dependents.sum(1).astype(float), axis=0).plot(kind=\"bar\", stacked=True) \n",
    "plt.show() \n",
    "Education.div(Education.sum(1).astype(float), axis=0).plot(kind=\"bar\", stacked=True, figsize=(4,4)) \n",
    "plt.show() \n",
    "Self_Employed.div(Self_Employed.sum(1).astype(float), axis=0).plot(kind=\"bar\", stacked=True, figsize=(4,4)) \n",
    "plt.show()"
   ]
  },
  {
   "cell_type": "code",
   "execution_count": 26,
   "metadata": {},
   "outputs": [
    {
     "data": {
      "image/png": "[encoded data removed]",
      "text/plain": [
       "<Figure size 288x288 with 1 Axes>"
      ]
     },
     "metadata": {
      "needs_background": "light"
     },
     "output_type": "display_data"
    },
    {
     "data": {
      "image/png": "[encoded data removed]",
      "text/plain": [
       "<Figure size 432x288 with 1 Axes>"
      ]
     },
     "metadata": {
      "needs_background": "light"
     },
     "output_type": "display_data"
    }
   ],
   "source": [
    "Credit_History=pd.crosstab(train['Credit_History'],train['Loan_Status'])\n",
    "Property_Area=pd.crosstab(train['Property_Area'],train['Loan_Status']) \n",
    "Credit_History.div(Credit_History.sum(1).astype(float), axis=0).plot(kind=\"bar\", stacked=True, figsize=(4,4)) \n",
    "plt.show() \n",
    "Property_Area.div(Property_Area.sum(1).astype(float), axis=0).plot(kind=\"bar\", stacked=True)\n",
    "plt.show()"
   ]
  },
  {
   "cell_type": "code",
   "execution_count": 27,
   "metadata": {},
   "outputs": [
    {
     "data": {
      "text/plain": [
       "<matplotlib.axes._subplots.AxesSubplot at 0x1f7be120cc0>"
      ]
     },
     "execution_count": 27,
     "metadata": {},
     "output_type": "execute_result"
    },
    {
     "data": {
      "image/png": "[encoded data removed]",
      "text/plain": [
       "<Figure size 432x288 with 1 Axes>"
      ]
     },
     "metadata": {
      "needs_background": "light"
     },
     "output_type": "display_data"
    }
   ],
   "source": [
    "train.groupby('Loan_Status')['ApplicantIncome'].mean().plot.bar()"
   ]
  },
  {
   "cell_type": "code",
   "execution_count": 28,
   "metadata": {},
   "outputs": [],
   "source": [
    "bins=[0,2500,4000,6000,81000] \n",
    "group=['Low','Average','High', 'Very high'] \n",
    "train['Income_bin']=pd.cut(train['ApplicantIncome'],bins,labels=group)"
   ]
  },
  {
   "cell_type": "code",
   "execution_count": 29,
   "metadata": {},
   "outputs": [
    {
     "data": {
      "image/png": "[encoded data removed]",
      "text/plain": [
       "<Figure size 432x288 with 1 Axes>"
      ]
     },
     "metadata": {
      "needs_background": "light"
     },
     "output_type": "display_data"
    }
   ],
   "source": [
    "Income_bin=pd.crosstab(train['Income_bin'],train['Loan_Status']) \n",
    "Income_bin.div(Income_bin.sum(1).astype(float), axis=0).plot(kind=\"bar\", stacked=True)\n",
    "plt.xlabel('ApplicantIncome') \n",
    "P = plt.ylabel('Percentage')"
   ]
  },
  {
   "cell_type": "code",
   "execution_count": 30,
   "metadata": {},
   "outputs": [],
   "source": [
    "bins=[0,1000,3000,42000] "
   ]
  },
  {
   "cell_type": "code",
   "execution_count": 31,
   "metadata": {},
   "outputs": [],
   "source": [
    "group=['Low','Average','High'] "
   ]
  },
  {
   "cell_type": "code",
   "execution_count": 32,
   "metadata": {},
   "outputs": [],
   "source": [
    "train['Coapplicant_Income_bin']=pd.cut(train['CoapplicantIncome'],bins,labels=group)"
   ]
  },
  {
   "cell_type": "code",
   "execution_count": 33,
   "metadata": {},
   "outputs": [
    {
     "data": {
      "image/png": "[encoded data removed]",
      "text/plain": [
       "<Figure size 432x288 with 1 Axes>"
      ]
     },
     "metadata": {
      "needs_background": "light"
     },
     "output_type": "display_data"
    }
   ],
   "source": [
    "Coapplicant_Income_bin=pd.crosstab(train['Coapplicant_Income_bin'],train['Loan_Status']) \n",
    "Coapplicant_Income_bin.div(Coapplicant_Income_bin.sum(1).astype(float), axis=0).plot(kind=\"bar\", stacked=True)\n",
    "plt.xlabel('CoapplicantIncome')\n",
    "P = plt.ylabel('Percentage')"
   ]
  },
  {
   "cell_type": "code",
   "execution_count": 34,
   "metadata": {},
   "outputs": [],
   "source": [
    "train['Total_Income']=train['ApplicantIncome']+train['CoapplicantIncome']"
   ]
  },
  {
   "cell_type": "code",
   "execution_count": 35,
   "metadata": {},
   "outputs": [
    {
     "data": {
      "image/png": "[encoded data removed]",
      "text/plain": [
       "<Figure size 432x288 with 1 Axes>"
      ]
     },
     "metadata": {
      "needs_background": "light"
     },
     "output_type": "display_data"
    }
   ],
   "source": [
    "bins=[0,2500,4000,6000,81000]\n",
    "group=['Low','Average','High', 'Very high'] \n",
    "train['Total_Income_bin']=pd.cut(train['Total_Income'],bins,labels=group)\n",
    "Total_Income_bin=pd.crosstab(train['Total_Income_bin'],train['Loan_Status']) \n",
    "Total_Income_bin.div(Total_Income_bin.sum(1).astype(float), axis=0).plot(kind=\"bar\", stacked=True) \n",
    "plt.xlabel('Total_Income') \n",
    "P = plt.ylabel('Percentage')\n",
    "      "
   ]
  },
  {
   "cell_type": "code",
   "execution_count": 36,
   "metadata": {},
   "outputs": [],
   "source": [
    "bins=[0,100,200,700] \n",
    "group=['Low','Average','High'] \n",
    "train['LoanAmount_bin']=pd.cut(train['LoanAmount'],bins,labels=group)"
   ]
  },
  {
   "cell_type": "code",
   "execution_count": 37,
   "metadata": {},
   "outputs": [
    {
     "data": {
      "image/png": "[encoded data removed]",
      "text/plain": [
       "<Figure size 432x288 with 1 Axes>"
      ]
     },
     "metadata": {
      "needs_background": "light"
     },
     "output_type": "display_data"
    }
   ],
   "source": [
    "LoanAmount_bin=pd.crosstab(train['LoanAmount_bin'],train['Loan_Status']) \n",
    "LoanAmount_bin.div(LoanAmount_bin.sum(1).astype(float), axis=0).plot(kind=\"bar\", stacked=True) \n",
    "plt.xlabel('LoanAmount') \n",
    "P = plt.ylabel('Percentage')"
   ]
  },
  {
   "cell_type": "code",
   "execution_count": 38,
   "metadata": {},
   "outputs": [],
   "source": [
    "train=train.drop(['Income_bin', 'Coapplicant_Income_bin', 'LoanAmount_bin', 'Total_Income_bin', 'Total_Income'], axis=1)"
   ]
  },
  {
   "cell_type": "code",
   "execution_count": 39,
   "metadata": {},
   "outputs": [],
   "source": [
    "train['Dependents'].replace('3+', 3,inplace=True) \n",
    "test['Dependents'].replace('3+', 3,inplace=True) \n",
    "train['Loan_Status'].replace('N', 0,inplace=True) \n",
    "train['Loan_Status'].replace('Y', 1,inplace=True)"
   ]
  },
  {
   "cell_type": "code",
   "execution_count": 40,
   "metadata": {},
   "outputs": [
    {
     "data": {
      "image/png": "[encoded data removed]",
      "text/plain": [
       "<Figure size 648x432 with 2 Axes>"
      ]
     },
     "metadata": {
      "needs_background": "light"
     },
     "output_type": "display_data"
    }
   ],
   "source": [
    "matrix = train.corr() \n",
    "f, ax = plt.subplots(figsize=(9, 6)) \n",
    "sns.heatmap(matrix, vmax=.8, square=True, cmap=\"BuPu\");"
   ]
  },
  {
   "cell_type": "code",
   "execution_count": 41,
   "metadata": {},
   "outputs": [
    {
     "data": {
      "text/plain": [
       "Loan_ID               0\n",
       "Gender               13\n",
       "Married               3\n",
       "Dependents           15\n",
       "Education             0\n",
       "Self_Employed        32\n",
       "ApplicantIncome       0\n",
       "CoapplicantIncome     0\n",
       "LoanAmount           22\n",
       "Loan_Amount_Term     14\n",
       "Credit_History       50\n",
       "Property_Area         0\n",
       "Loan_Status           0\n",
       "dtype: int64"
      ]
     },
     "execution_count": 41,
     "metadata": {},
     "output_type": "execute_result"
    }
   ],
   "source": [
    "train.isnull().sum()"
   ]
  },
  {
   "cell_type": "code",
   "execution_count": 42,
   "metadata": {},
   "outputs": [],
   "source": [
    "train['Gender'].fillna(train['Gender'].mode()[0], inplace=True) "
   ]
  },
  {
   "cell_type": "code",
   "execution_count": 43,
   "metadata": {},
   "outputs": [],
   "source": [
    "train['Married'].fillna(train['Married'].mode()[0], inplace=True) "
   ]
  },
  {
   "cell_type": "code",
   "execution_count": 44,
   "metadata": {},
   "outputs": [],
   "source": [
    "train['Dependents'].fillna(train['Dependents'].mode()[0], inplace=True) \n",
    "train['Self_Employed'].fillna(train['Self_Employed'].mode()[0], inplace=True) \n",
    "train['Credit_History'].fillna(train['Credit_History'].mode()[0], inplace=True)"
   ]
  },
  {
   "cell_type": "code",
   "execution_count": 45,
   "metadata": {},
   "outputs": [
    {
     "data": {
      "text/plain": [
       "360.0    512\n",
       "180.0     44\n",
       "480.0     15\n",
       "300.0     13\n",
       "84.0       4\n",
       "240.0      4\n",
       "120.0      3\n",
       "36.0       2\n",
       "60.0       2\n",
       "12.0       1\n",
       "Name: Loan_Amount_Term, dtype: int64"
      ]
     },
     "execution_count": 45,
     "metadata": {},
     "output_type": "execute_result"
    }
   ],
   "source": [
    "train['Loan_Amount_Term'].value_counts()"
   ]
  },
  {
   "cell_type": "code",
   "execution_count": 46,
   "metadata": {},
   "outputs": [],
   "source": [
    "train['Loan_Amount_Term'].fillna(train['Loan_Amount_Term'].mode()[0], inplace=True)"
   ]
  },
  {
   "cell_type": "code",
   "execution_count": 47,
   "metadata": {},
   "outputs": [],
   "source": [
    "train['LoanAmount'].fillna(train['LoanAmount'].median(), inplace=True)"
   ]
  },
  {
   "cell_type": "code",
   "execution_count": 48,
   "metadata": {},
   "outputs": [
    {
     "data": {
      "text/plain": [
       "Loan_ID              0\n",
       "Gender               0\n",
       "Married              0\n",
       "Dependents           0\n",
       "Education            0\n",
       "Self_Employed        0\n",
       "ApplicantIncome      0\n",
       "CoapplicantIncome    0\n",
       "LoanAmount           0\n",
       "Loan_Amount_Term     0\n",
       "Credit_History       0\n",
       "Property_Area        0\n",
       "Loan_Status          0\n",
       "dtype: int64"
      ]
     },
     "execution_count": 48,
     "metadata": {},
     "output_type": "execute_result"
    }
   ],
   "source": [
    "train.isnull().sum()"
   ]
  },
  {
   "cell_type": "code",
   "execution_count": 49,
   "metadata": {},
   "outputs": [],
   "source": [
    "test['Gender'].fillna(train['Gender'].mode()[0], inplace=True) \n",
    "test['Dependents'].fillna(train['Dependents'].mode()[0], inplace=True) \n",
    "test['Self_Employed'].fillna(train['Self_Employed'].mode()[0], inplace=True) \n",
    "test['Credit_History'].fillna(train['Credit_History'].mode()[0], inplace=True) \n",
    "test['Loan_Amount_Term'].fillna(train['Loan_Amount_Term'].mode()[0], inplace=True) \n",
    "test['LoanAmount'].fillna(train['LoanAmount'].median(), inplace=True)"
   ]
  },
  {
   "cell_type": "code",
   "execution_count": 50,
   "metadata": {},
   "outputs": [
    {
     "data": {
      "text/plain": [
       "Loan_ID              0\n",
       "Gender               0\n",
       "Married              0\n",
       "Dependents           0\n",
       "Education            0\n",
       "Self_Employed        0\n",
       "ApplicantIncome      0\n",
       "CoapplicantIncome    0\n",
       "LoanAmount           0\n",
       "Loan_Amount_Term     0\n",
       "Credit_History       0\n",
       "Property_Area        0\n",
       "dtype: int64"
      ]
     },
     "execution_count": 50,
     "metadata": {},
     "output_type": "execute_result"
    }
   ],
   "source": [
    "test.isnull().sum()"
   ]
  },
  {
   "cell_type": "code",
   "execution_count": 51,
   "metadata": {},
   "outputs": [
    {
     "data": {
      "image/png": "[encoded data removed]",
      "text/plain": [
       "<Figure size 432x288 with 1 Axes>"
      ]
     },
     "metadata": {
      "needs_background": "light"
     },
     "output_type": "display_data"
    }
   ],
   "source": [
    "train['LoanAmount_log'] = np.log(train['LoanAmount']) \n",
    "train['LoanAmount_log'].hist(bins=20) \n",
    "test['LoanAmount_log'] = np.log(test['LoanAmount'])"
   ]
  },
  {
   "cell_type": "code",
   "execution_count": 52,
   "metadata": {},
   "outputs": [],
   "source": [
    "train=train.drop('Loan_ID',axis=1) \n",
    "test=test.drop('Loan_ID',axis=1)"
   ]
  },
  {
   "cell_type": "code",
   "execution_count": 53,
   "metadata": {},
   "outputs": [],
   "source": [
    "X = train.drop('Loan_Status',1) \n",
    "y = train.Loan_Status"
   ]
  },
  {
   "cell_type": "code",
   "execution_count": 54,
   "metadata": {},
   "outputs": [],
   "source": [
    "X=pd.get_dummies(X) \n",
    "train=pd.get_dummies(train) \n",
    "test=pd.get_dummies(test)"
   ]
  },
  {
   "cell_type": "code",
   "execution_count": 55,
   "metadata": {},
   "outputs": [],
   "source": [
    "from sklearn.model_selection import train_test_split\n",
    "x_train, x_cv, y_train, y_cv = train_test_split(X,y, test_size =0.3)"
   ]
  },
  {
   "cell_type": "code",
   "execution_count": 56,
   "metadata": {},
   "outputs": [],
   "source": [
    "from sklearn.linear_model import LogisticRegression \n",
    "from sklearn.metrics import accuracy_score"
   ]
  },
  {
   "cell_type": "code",
   "execution_count": 57,
   "metadata": {},
   "outputs": [
    {
     "data": {
      "text/plain": [
       "LogisticRegression(C=1.0, class_weight=None, dual=False, fit_intercept=True,\n",
       "                   intercept_scaling=1, l1_ratio=None, max_iter=100,\n",
       "                   multi_class='warn', n_jobs=None, penalty='l2',\n",
       "                   random_state=None, solver='warn', tol=0.0001, verbose=0,\n",
       "                   warm_start=False)"
      ]
     },
     "execution_count": 57,
     "metadata": {},
     "output_type": "execute_result"
    }
   ],
   "source": [
    "model = LogisticRegression() \n",
    "model.fit(x_train, y_train)"
   ]
  },
  {
   "cell_type": "code",
   "execution_count": 58,
   "metadata": {},
   "outputs": [
    {
     "data": {
      "text/plain": [
       "LogisticRegression(C=1.0, class_weight=None, dual=False, fit_intercept=True,\n",
       "                   intercept_scaling=1, l1_ratio=None, max_iter=100,\n",
       "                   multi_class='ovr', n_jobs=1, penalty='l2', random_state=1,\n",
       "                   solver='liblinear', tol=0.0001, verbose=0, warm_start=False)"
      ]
     },
     "execution_count": 58,
     "metadata": {},
     "output_type": "execute_result"
    }
   ],
   "source": [
    "LogisticRegression(C=1.0, class_weight=None, dual=False, fit_intercept=True,intercept_scaling=1, max_iter=100, multi_class='ovr', n_jobs=1,penalty='l2', random_state=1, solver='liblinear', tol=0.0001,verbose=0, warm_start=False)"
   ]
  },
  {
   "cell_type": "code",
   "execution_count": 59,
   "metadata": {},
   "outputs": [],
   "source": [
    "pred_cv = model.predict(x_cv)"
   ]
  },
  {
   "cell_type": "code",
   "execution_count": 60,
   "metadata": {},
   "outputs": [
    {
     "data": {
      "text/plain": [
       "0.7891891891891892"
      ]
     },
     "execution_count": 60,
     "metadata": {},
     "output_type": "execute_result"
    }
   ],
   "source": [
    "accuracy_score(y_cv,pred_cv)"
   ]
  },
  {
   "cell_type": "code",
   "execution_count": 61,
   "metadata": {},
   "outputs": [],
   "source": [
    "pred_test = model.predict(test)"
   ]
  },
  {
   "cell_type": "code",
   "execution_count": 62,
   "metadata": {},
   "outputs": [],
   "source": [
    "submission=pd.read_csv(\"Sample_Submission.csv\")"
   ]
  },
  {
   "cell_type": "code",
   "execution_count": 63,
   "metadata": {},
   "outputs": [],
   "source": [
    "submission['Loan_Status']=pred_test \n",
    "submission['Loan_ID']=test_original['Loan_ID']"
   ]
  },
  {
   "cell_type": "code",
   "execution_count": 64,
   "metadata": {},
   "outputs": [],
   "source": [
    "submission['Loan_Status'].replace(0, 'N',inplace=True) \n",
    "submission['Loan_Status'].replace(1, 'Y',inplace=True)"
   ]
  },
  {
   "cell_type": "code",
   "execution_count": 65,
   "metadata": {},
   "outputs": [],
   "source": [
    "pd.DataFrame(submission, columns=['Loan_ID','Loan_Status']).to_csv('logistic.csv')"
   ]
  },
  {
   "cell_type": "code",
   "execution_count": 66,
   "metadata": {},
   "outputs": [],
   "source": [
    "from sklearn.model_selection import StratifiedKFold"
   ]
  },
  {
   "cell_type": "code",
   "execution_count": 67,
   "metadata": {},
   "outputs": [
    {
     "name": "stdout",
     "output_type": "stream",
     "text": [
      "\n",
      "1 of kfold 10\n",
      "accuracy_score 0.7936507936507936\n",
      "\n",
      "2 of kfold 10\n",
      "accuracy_score 0.8095238095238095\n",
      "\n",
      "3 of kfold 10\n",
      "accuracy_score 0.7868852459016393\n",
      "\n",
      "4 of kfold 10\n",
      "accuracy_score 0.8360655737704918\n",
      "\n",
      "5 of kfold 10\n",
      "accuracy_score 0.8032786885245902\n",
      "\n",
      "6 of kfold 10\n",
      "accuracy_score 0.819672131147541\n",
      "\n",
      "7 of kfold 10\n",
      "accuracy_score 0.819672131147541\n",
      "\n",
      "8 of kfold 10\n",
      "accuracy_score 0.7704918032786885\n",
      "\n",
      "9 of kfold 10\n",
      "accuracy_score 0.8360655737704918\n",
      "\n",
      "10 of kfold 10\n",
      "accuracy_score 0.8360655737704918\n"
     ]
    }
   ],
   "source": [
    "i=1 \n",
    "kf = StratifiedKFold(n_splits=10,random_state=1,shuffle=True) \n",
    "for train_index,test_index in kf.split(X,y):     \n",
    "    print('\\n{} of kfold {}'.format(i,kf.n_splits))     \n",
    "    xtr,xvl = X.loc[train_index],X.loc[test_index]     \n",
    "    ytr,yvl = y[train_index],y[test_index]         \n",
    "    model = LogisticRegression(random_state=1)     \n",
    "    model.fit(xtr, ytr)     \n",
    "    pred_test = model.predict(xvl)     \n",
    "    score = accuracy_score(yvl,pred_test)     \n",
    "    print('accuracy_score',score)     \n",
    "    i+=1 \n",
    "    pred_test = model.predict(test) \n",
    "    pred=model.predict_proba(xvl)[:,1]"
   ]
  },
  {
   "cell_type": "code",
   "execution_count": 68,
   "metadata": {},
   "outputs": [
    {
     "data": {
      "image/png": "[encoded data removed]",
      "text/plain": [
       "<Figure size 864x576 with 1 Axes>"
      ]
     },
     "metadata": {
      "needs_background": "light"
     },
     "output_type": "display_data"
    }
   ],
   "source": [
    "from sklearn import metrics \n",
    "fpr, tpr, _ = metrics.roc_curve(yvl,  pred) \n",
    "auc = metrics.roc_auc_score(yvl, pred) \n",
    "plt.figure(figsize=(12,8)) \n",
    "plt.plot(fpr,tpr,label=\"validation, auc=\"+str(auc)) \n",
    "plt.xlabel('False Positive Rate') \n",
    "plt.ylabel('True Positive Rate') \n",
    "plt.legend(loc=4) \n",
    "plt.show()\n"
   ]
  },
  {
   "cell_type": "code",
   "execution_count": 69,
   "metadata": {},
   "outputs": [],
   "source": [
    "submission['Loan_Status']=pred_test \n",
    "submission['Loan_ID']=test_original['Loan_ID']"
   ]
  },
  {
   "cell_type": "code",
   "execution_count": 70,
   "metadata": {},
   "outputs": [],
   "source": [
    "submission['Loan_Status'].replace(0, 'N',inplace=True) \n",
    "submission['Loan_Status'].replace(1, 'Y',inplace=True)"
   ]
  },
  {
   "cell_type": "code",
   "execution_count": 71,
   "metadata": {},
   "outputs": [],
   "source": [
    "pd.DataFrame(submission, columns=['Loan_ID','Loan_Status']).to_csv('Logistic.csv')"
   ]
  },
  {
   "cell_type": "code",
   "execution_count": 72,
   "metadata": {},
   "outputs": [],
   "source": [
    "train['Total_Income']=train['ApplicantIncome']+train['CoapplicantIncome'] \n",
    "test['Total_Income']=test['ApplicantIncome']+test['CoapplicantIncome']"
   ]
  },
  {
   "cell_type": "code",
   "execution_count": 73,
   "metadata": {},
   "outputs": [
    {
     "data": {
      "image/png": "[encoded data removed]",
      "text/plain": [
       "<Figure size 432x288 with 1 Axes>"
      ]
     },
     "metadata": {
      "needs_background": "light"
     },
     "output_type": "display_data"
    }
   ],
   "source": [
    "sns.distplot(train['Total_Income']);"
   ]
  },
  {
   "cell_type": "code",
   "execution_count": 74,
   "metadata": {},
   "outputs": [
    {
     "data": {
      "image/png": "[encoded data removed]",
      "text/plain": [
       "<Figure size 432x288 with 1 Axes>"
      ]
     },
     "metadata": {
      "needs_background": "light"
     },
     "output_type": "display_data"
    }
   ],
   "source": [
    "train['Total_Income_log'] = np.log(train['Total_Income']) \n",
    "sns.distplot(train['Total_Income_log']); \n",
    "test['Total_Income_log'] = np.log(test['Total_Income'])\n"
   ]
  },
  {
   "cell_type": "code",
   "execution_count": 75,
   "metadata": {},
   "outputs": [],
   "source": [
    "train['EMI']=train['LoanAmount']/train['Loan_Amount_Term'] \n",
    "test['EMI']=test['LoanAmount']/test['Loan_Amount_Term']"
   ]
  },
  {
   "cell_type": "code",
   "execution_count": 76,
   "metadata": {},
   "outputs": [
    {
     "data": {
      "image/png": "[encoded data removed]",
      "text/plain": [
       "<Figure size 432x288 with 1 Axes>"
      ]
     },
     "metadata": {
      "needs_background": "light"
     },
     "output_type": "display_data"
    }
   ],
   "source": [
    "sns.distplot(train['EMI']);"
   ]
  },
  {
   "cell_type": "code",
   "execution_count": 77,
   "metadata": {},
   "outputs": [
    {
     "data": {
      "image/png": "[encoded data removed]",
      "text/plain": [
       "<Figure size 432x288 with 1 Axes>"
      ]
     },
     "metadata": {
      "needs_background": "light"
     },
     "output_type": "display_data"
    }
   ],
   "source": [
    "train['Balance Income']=train['Total_Income']-(train['EMI']*1000)\n",
    "test['Balance Income']=test['Total_Income']-(test['EMI']*1000)\n",
    "sns.distplot(train['Balance Income']);"
   ]
  },
  {
   "cell_type": "code",
   "execution_count": 78,
   "metadata": {},
   "outputs": [],
   "source": [
    "train=train.drop(['ApplicantIncome', 'CoapplicantIncome', 'LoanAmount', 'Loan_Amount_Term'], axis=1) \n",
    "test=test.drop(['ApplicantIncome', 'CoapplicantIncome', 'LoanAmount', 'Loan_Amount_Term'], axis=1)"
   ]
  },
  {
   "cell_type": "code",
   "execution_count": 79,
   "metadata": {},
   "outputs": [],
   "source": [
    "X = train.drop('Loan_Status',1) \n",
    "y = train.Loan_Status     "
   ]
  },
  {
   "cell_type": "code",
   "execution_count": 80,
   "metadata": {},
   "outputs": [
    {
     "name": "stdout",
     "output_type": "stream",
     "text": [
      "\n",
      "1 of kfold 5\n",
      "accuracy_score 0.8064516129032258\n",
      "\n",
      "2 of kfold 5\n",
      "accuracy_score 0.8064516129032258\n",
      "\n",
      "3 of kfold 5\n",
      "accuracy_score 0.8032786885245902\n",
      "\n",
      "4 of kfold 5\n",
      "accuracy_score 0.7950819672131147\n",
      "\n",
      "5 of kfold 5\n",
      "accuracy_score 0.8360655737704918\n"
     ]
    }
   ],
   "source": [
    "i=1 \n",
    "kf = StratifiedKFold(n_splits=5,random_state=1,shuffle=True) \n",
    "for train_index,test_index in kf.split(X,y):\n",
    "    print('\\n{} of kfold {}'.format(i,kf.n_splits))     \n",
    "    xtr,xvl = X.loc[train_index],X.loc[test_index]     \n",
    "    ytr,yvl = y[train_index],y[test_index]         \n",
    "    model = LogisticRegression(random_state=1)     \n",
    "    model.fit(xtr, ytr)     \n",
    "    pred_test = model.predict(xvl)     \n",
    "    score = accuracy_score(yvl,pred_test)     \n",
    "    print('accuracy_score',score)     \n",
    "    i+=1 \n",
    "    pred_test = model.predict(test) \n",
    "    pred=model.predict_proba(xvl)[:,1]"
   ]
  },
  {
   "cell_type": "code",
   "execution_count": 81,
   "metadata": {},
   "outputs": [],
   "source": [
    "submission['Loan_Status']=pred_test            # filling Loan_Status with predictions \n",
    "submission['Loan_ID']=test_original['Loan_ID'] # filling Loan_ID with test Loan_ID"
   ]
  },
  {
   "cell_type": "code",
   "execution_count": 82,
   "metadata": {},
   "outputs": [],
   "source": [
    "submission['Loan_Status'].replace(0, 'N',inplace=True) \n",
    "submission['Loan_Status'].replace(1, 'Y',inplace=True)"
   ]
  },
  {
   "cell_type": "code",
   "execution_count": 83,
   "metadata": {},
   "outputs": [],
   "source": [
    "pd.DataFrame(submission, columns=['Loan_ID','Loan_Status']).to_csv('Log2.csv')"
   ]
  },
  {
   "cell_type": "code",
   "execution_count": 84,
   "metadata": {},
   "outputs": [],
   "source": [
    "from sklearn import tree"
   ]
  },
  {
   "cell_type": "code",
   "execution_count": 85,
   "metadata": {},
   "outputs": [
    {
     "name": "stdout",
     "output_type": "stream",
     "text": [
      "\n",
      "1 of kfold 5\n",
      "accuracy_score 0.75\n",
      "\n",
      "2 of kfold 5\n",
      "accuracy_score 0.75\n",
      "\n",
      "3 of kfold 5\n",
      "accuracy_score 0.6721311475409836\n",
      "\n",
      "4 of kfold 5\n",
      "accuracy_score 0.6967213114754098\n",
      "\n",
      "5 of kfold 5\n",
      "accuracy_score 0.7049180327868853\n"
     ]
    }
   ],
   "source": [
    "i=1 \n",
    "kf = StratifiedKFold(n_splits=5,random_state=1,shuffle=True) \n",
    "for train_index,test_index in kf.split(X,y):     \n",
    "    print('\\n{} of kfold {}'.format(i,kf.n_splits))     \n",
    "    xtr,xvl = X.loc[train_index],X.loc[test_index]     \n",
    "    ytr,yvl = y[train_index],y[test_index]         \n",
    "    model = tree.DecisionTreeClassifier(random_state=1)     \n",
    "    model.fit(xtr, ytr)     \n",
    "    pred_test = model.predict(xvl)     \n",
    "    score = accuracy_score(yvl,pred_test)     \n",
    "    print('accuracy_score',score)     \n",
    "    i+=1 \n",
    "    pred_test = model.predict(test)"
   ]
  },
  {
   "cell_type": "code",
   "execution_count": 86,
   "metadata": {},
   "outputs": [],
   "source": [
    "submission['Loan_Status']=pred_test            # filling Loan_Status with predictions \n",
    "submission['Loan_ID']=test_original['Loan_ID'] # filling Loan_ID with test Loan_ID"
   ]
  },
  {
   "cell_type": "code",
   "execution_count": 87,
   "metadata": {},
   "outputs": [],
   "source": [
    "submission['Loan_Status'].replace(0, 'N',inplace=True) \n",
    "submission['Loan_Status'].replace(1, 'Y',inplace=True)"
   ]
  },
  {
   "cell_type": "code",
   "execution_count": 88,
   "metadata": {},
   "outputs": [],
   "source": [
    "pd.DataFrame(submission, columns=['Loan_ID','Loan_Status']).to_csv('Decision Tree.csv')"
   ]
  },
  {
   "cell_type": "code",
   "execution_count": 89,
   "metadata": {},
   "outputs": [],
   "source": [
    "from sklearn.ensemble import RandomForestClassifier"
   ]
  },
  {
   "cell_type": "code",
   "execution_count": 90,
   "metadata": {},
   "outputs": [
    {
     "name": "stdout",
     "output_type": "stream",
     "text": [
      "\n",
      "1 of kfold 5\n",
      "accuracy_score 0.7338709677419355\n",
      "\n",
      "2 of kfold 5\n",
      "accuracy_score 0.7903225806451613\n",
      "\n",
      "3 of kfold 5\n",
      "accuracy_score 0.7868852459016393\n",
      "\n",
      "4 of kfold 5\n",
      "accuracy_score 0.7704918032786885\n",
      "\n",
      "5 of kfold 5\n",
      "accuracy_score 0.8524590163934426\n"
     ]
    }
   ],
   "source": [
    "i=1 \n",
    "kf = StratifiedKFold(n_splits=5,random_state=1,shuffle=True) \n",
    "for train_index,test_index in kf.split(X,y):     \n",
    "    print('\\n{} of kfold {}'.format(i,kf.n_splits))     \n",
    "    xtr,xvl = X.loc[train_index],X.loc[test_index]     \n",
    "    ytr,yvl = y[train_index],y[test_index]         \n",
    "    model = RandomForestClassifier(random_state=1, max_depth=10)     \n",
    "    model.fit(xtr, ytr)     \n",
    "    pred_test = model.predict(xvl)     \n",
    "    score = accuracy_score(yvl,pred_test)     \n",
    "    print('accuracy_score',score)     \n",
    "    i+=1 "
   ]
  },
  {
   "cell_type": "code",
   "execution_count": 91,
   "metadata": {},
   "outputs": [],
   "source": [
    "from sklearn.model_selection import GridSearchCV"
   ]
  },
  {
   "cell_type": "code",
   "execution_count": 92,
   "metadata": {},
   "outputs": [],
   "source": [
    "paramgrid = {'max_depth': list(range(1, 20, 2)), 'n_estimators': list(range(1, 200, 20))}\n",
    "grid_search=GridSearchCV(RandomForestClassifier(random_state=1),paramgrid)"
   ]
  },
  {
   "cell_type": "code",
   "execution_count": 93,
   "metadata": {},
   "outputs": [],
   "source": [
    "from sklearn.model_selection import train_test_split \n",
    "x_train, x_cv, y_train, y_cv = train_test_split(X,y, test_size =0.3, random_state=1)"
   ]
  },
  {
   "cell_type": "code",
   "execution_count": 94,
   "metadata": {},
   "outputs": [
    {
     "name": "stderr",
     "output_type": "stream",
     "text": [
      "C:\\ProgramData\\Anaconda3\\lib\\site-packages\\sklearn\\model_selection\\_search.py:813: DeprecationWarning: The default of the `iid` parameter will change from True to False in version 0.22 and will be removed in 0.24. This will change numeric results when test-set sizes are unequal.\n",
      "  DeprecationWarning)\n"
     ]
    },
    {
     "data": {
      "text/plain": [
       "GridSearchCV(cv='warn', error_score='raise-deprecating',\n",
       "             estimator=RandomForestClassifier(bootstrap=True, class_weight=None,\n",
       "                                              criterion='gini', max_depth=None,\n",
       "                                              max_features='auto',\n",
       "                                              max_leaf_nodes=None,\n",
       "                                              min_impurity_decrease=0.0,\n",
       "                                              min_impurity_split=None,\n",
       "                                              min_samples_leaf=1,\n",
       "                                              min_samples_split=2,\n",
       "                                              min_weight_fraction_leaf=0.0,\n",
       "                                              n_estimators='warn', n_jobs=None,\n",
       "                                              oob_score=False, random_state=1,\n",
       "                                              verbose=0, warm_start=False),\n",
       "             iid='warn', n_jobs=None,\n",
       "             param_grid={'max_depth': [1, 3, 5, 7, 9, 11, 13, 15, 17, 19],\n",
       "                         'n_estimators': [1, 21, 41, 61, 81, 101, 121, 141, 161,\n",
       "                                          181]},\n",
       "             pre_dispatch='2*n_jobs', refit=True, return_train_score=False,\n",
       "             scoring=None, verbose=0)"
      ]
     },
     "execution_count": 94,
     "metadata": {},
     "output_type": "execute_result"
    }
   ],
   "source": [
    "# Fit the grid search model \n",
    "grid_search.fit(x_train,y_train)"
   ]
  },
  {
   "cell_type": "code",
   "execution_count": 95,
   "metadata": {},
   "outputs": [
    {
     "data": {
      "text/plain": [
       "RandomForestClassifier(bootstrap=True, class_weight=None, criterion='gini',\n",
       "                       max_depth=3, max_features='auto', max_leaf_nodes=None,\n",
       "                       min_impurity_decrease=0.0, min_impurity_split=None,\n",
       "                       min_samples_leaf=1, min_samples_split=2,\n",
       "                       min_weight_fraction_leaf=0.0, n_estimators=41, n_jobs=1,\n",
       "                       oob_score=False, random_state=1, verbose=0,\n",
       "                       warm_start=False)"
      ]
     },
     "execution_count": 95,
     "metadata": {},
     "output_type": "execute_result"
    }
   ],
   "source": [
    "grid_search.best_estimator_\n",
    "RandomForestClassifier(bootstrap=True, class_weight=None, criterion='gini',            max_depth=3, max_features='auto', max_leaf_nodes=None,            min_impurity_decrease=0.0, min_impurity_split=None,            \n",
    "min_samples_leaf=1, min_samples_split=2,            \n",
    "min_weight_fraction_leaf=0.0, n_estimators=41, n_jobs=1,            \n",
    "oob_score=False, random_state=1, verbose=0, warm_start=False)"
   ]
  },
  {
   "cell_type": "code",
   "execution_count": 96,
   "metadata": {},
   "outputs": [
    {
     "name": "stdout",
     "output_type": "stream",
     "text": [
      "\n",
      "1 of kfold 5\n",
      "accuracy_score 0.7983870967741935\n",
      "\n",
      "2 of kfold 5\n",
      "accuracy_score 0.7983870967741935\n",
      "\n",
      "3 of kfold 5\n",
      "accuracy_score 0.7540983606557377\n",
      "\n",
      "4 of kfold 5\n",
      "accuracy_score 0.7786885245901639\n",
      "\n",
      "5 of kfold 5\n",
      "accuracy_score 0.7868852459016393\n"
     ]
    }
   ],
   "source": [
    "i=1 \n",
    "kf = StratifiedKFold(n_splits=5,random_state=1,shuffle=True) \n",
    "for train_index,test_index in kf.split(X,y):     \n",
    "    print('\\n{} of kfold {}'.format(i,kf.n_splits))     \n",
    "    xtr,xvl = X.loc[train_index],X.loc[test_index]     \n",
    "    ytr,yvl = y[train_index],y[test_index]         \n",
    "    model = RandomForestClassifier(random_state=1, max_depth=3, n_estimators=41)     \n",
    "    model.fit(xtr, ytr)     \n",
    "    pred_test = model.predict(xvl)     \n",
    "    score = accuracy_score(yvl,pred_test)     \n",
    "    print('accuracy_score',score)     \n",
    "    i+=1 \n",
    "    pred_test = model.predict(test) \n",
    "    pred2=model.predict_proba(test)[:,1]"
   ]
  },
  {
   "cell_type": "code",
   "execution_count": 97,
   "metadata": {},
   "outputs": [],
   "source": [
    "submission['Loan_Status']=pred_test            # filling Loan_Status with predictions \n",
    "submission['Loan_ID']=test_original['Loan_ID'] # filling Loan_ID with test Loan_ID"
   ]
  },
  {
   "cell_type": "code",
   "execution_count": 98,
   "metadata": {},
   "outputs": [],
   "source": [
    "submission['Loan_Status'].replace(0, 'N',inplace=True) \n",
    "submission['Loan_Status'].replace(1, 'Y',inplace=True)"
   ]
  },
  {
   "cell_type": "code",
   "execution_count": 99,
   "metadata": {},
   "outputs": [],
   "source": [
    "pd.DataFrame(submission, columns=['Loan_ID','Loan_Status']).to_csv('Random Forest.csv')"
   ]
  },
  {
   "cell_type": "code",
   "execution_count": 100,
   "metadata": {},
   "outputs": [
    {
     "data": {
      "text/plain": [
       "<matplotlib.axes._subplots.AxesSubplot at 0x1f7c019c208>"
      ]
     },
     "execution_count": 100,
     "metadata": {},
     "output_type": "execute_result"
    },
    {
     "data": {
      "image/png": "[encoded data removed]",
      "text/plain": [
       "<Figure size 864x576 with 1 Axes>"
      ]
     },
     "metadata": {
      "needs_background": "light"
     },
     "output_type": "display_data"
    }
   ],
   "source": [
    "importances=pd.Series(model.feature_importances_, index=X.columns) \n",
    "importances.plot(kind='barh', figsize=(12,8))"
   ]
  },
  {
   "cell_type": "code",
   "execution_count": 101,
   "metadata": {},
   "outputs": [],
   "source": [
    "from xgboost import XGBClassifier"
   ]
  },
  {
   "cell_type": "code",
   "execution_count": 102,
   "metadata": {},
   "outputs": [
    {
     "name": "stdout",
     "output_type": "stream",
     "text": [
      "\n",
      "1 of kfold 5\n",
      "accuracy_score 0.7741935483870968\n",
      "\n",
      "2 of kfold 5\n",
      "accuracy_score 0.8064516129032258\n",
      "\n",
      "3 of kfold 5\n",
      "accuracy_score 0.7868852459016393\n",
      "\n",
      "4 of kfold 5\n",
      "accuracy_score 0.7868852459016393\n",
      "\n",
      "5 of kfold 5\n",
      "accuracy_score 0.819672131147541\n"
     ]
    }
   ],
   "source": [
    "i=1 \n",
    "kf = StratifiedKFold(n_splits=5,random_state=1,shuffle=True) \n",
    "for train_index,test_index in kf.split(X,y):     \n",
    "    print('\\n{} of kfold {}'.format(i,kf.n_splits))     \n",
    "    xtr,xvl = X.loc[train_index],X.loc[test_index]     \n",
    "    ytr,yvl = y[train_index],y[test_index]         \n",
    "    model = XGBClassifier(n_estimators=50, max_depth=4)     \n",
    "    model.fit(xtr, ytr)     \n",
    "    pred_test = model.predict(xvl)     \n",
    "    score = accuracy_score(yvl,pred_test)     \n",
    "    print('accuracy_score',score)     \n",
    "    i+=1 \n",
    "    pred_test = model.predict(test) \n",
    "    pred3=model.predict_proba(test)[:,1]"
   ]
  },
  {
   "cell_type": "code",
   "execution_count": 103,
   "metadata": {},
   "outputs": [],
   "source": [
    "submission['Loan_Status']=pred_test \n",
    "submission['Loan_ID']=test_original['Loan_ID']"
   ]
  },
  {
   "cell_type": "code",
   "execution_count": 104,
   "metadata": {},
   "outputs": [],
   "source": [
    "submission['Loan_Status'].replace(0, 'N',inplace=True) \n",
    "submission['Loan_Status'].replace(1, 'Y',inplace=True)"
   ]
  },
  {
   "cell_type": "code",
   "execution_count": 105,
   "metadata": {},
   "outputs": [],
   "source": [
    "pd.DataFrame(submission, columns=['Loan_ID','Loan_Status']).to_csv('XGBoost.csv')"
   ]
  },
  {
   "cell_type": "code",
   "execution_count": null,
   "metadata": {},
   "outputs": [],
   "source": []
  }
 ],
 "metadata": {
  "kernelspec": {
   "display_name": "Python 3",
   "language": "python",
   "name": "python3"
  },
  "language_info": {
   "codemirror_mode": {
    "name": "ipython",
    "version": 3
   },
   "file_extension": ".py",
   "mimetype": "text/x-python",
   "name": "python",
   "nbconvert_exporter": "python",
   "pygments_lexer": "ipython3",
   "version": "3.7.3"
  }
 },
 "nbformat": 4,
 "nbformat_minor": 2
}
