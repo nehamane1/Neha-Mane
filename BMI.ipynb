{
  "nbformat": 4,
  "nbformat_minor": 0,
  "metadata": {
    "colab": {
      "name": "BMI.ipynb",
      "provenance": [],
      "authorship_tag": "ABX9TyNKi/WUxSTe/bLDAkjpZefK",
      "include_colab_link": true
    },
    "kernelspec": {
      "name": "python3",
      "display_name": "Python 3"
    }
  },
  "cells": [
    {
      "cell_type": "markdown",
      "metadata": {
        "id": "view-in-github",
        "colab_type": "text"
      },
      "source": [
        "<a href=\"https://colab.research.google.com/github/nehamane1/Neha-Mane/blob/master/BMI.ipynb\" target=\"_parent\"><img src=\"https://colab.research.google.com/assets/colab-badge.svg\" alt=\"Open In Colab\"/></a>"
      ]
    },
    {
      "cell_type": "code",
      "metadata": {
        "colab": {
          "base_uri": "https://localhost:8080/"
        },
        "id": "UOsCt9ViZZv7",
        "outputId": "3e772fe6-4ba1-4aae-e5a1-e746d2df5942"
      },
      "source": [
        "def BMICalculator():\n",
        "  weight=float(input(\"Enter your weight in kilograms:\"))\n",
        "  height=float(input(\"Enter your height in centimeters:\"))\n",
        "  bmi=weight/((height/100)*(height/100))\n",
        "  print(\"Your BMI is: {}\".format(bmi))\n",
        "  if bmi > 26:\n",
        "    print(\"You can increase your health by doing a little exercise\")\n",
        "  else:\n",
        "    print(\"You are healthy\")\n",
        "\n",
        "\n",
        "BMICalculator()\n"
      ],
      "execution_count": 5,
      "outputs": [
        {
          "output_type": "stream",
          "text": [
            "Enter your weight in kilograms:69\n",
            "Enter your height in centimeters:169\n",
            "Your BMI is: 24.158817968558527\n",
            "You are healthy\n"
          ],
          "name": "stdout"
        }
      ]
    }
  ]
}