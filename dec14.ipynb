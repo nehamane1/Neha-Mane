{
  "nbformat": 4,
  "nbformat_minor": 0,
  "metadata": {
    "colab": {
      "name": "dec14.ipynb",
      "provenance": [],
      "authorship_tag": "ABX9TyMmbXSqbynlWai5NW2K9Dmp",
      "include_colab_link": true
    },
    "kernelspec": {
      "name": "python3",
      "display_name": "Python 3"
    }
  },
  "cells": [
    {
      "cell_type": "markdown",
      "metadata": {
        "id": "view-in-github",
        "colab_type": "text"
      },
      "source": [
        "<a href=\"https://colab.research.google.com/github/nehamane1/Neha-Mane/blob/master/dec14.ipynb\" target=\"_parent\"><img src=\"https://colab.research.google.com/assets/colab-badge.svg\" alt=\"Open In Colab\"/></a>"
      ]
    },
    {
      "cell_type": "code",
      "metadata": {
        "colab": {
          "base_uri": "https://localhost:8080/"
        },
        "id": "8dzX5ptxjv4B",
        "outputId": "9cc13158-0d07-4a6a-e281-8f9e4c406b7a"
      },
      "source": [
        "import sqlite3\r\n",
        "db = sqlite3.connect(\"HR_database.db\")\r\n",
        "db.execute(\"drop table if exists results\")\r\n",
        "try:\r\n",
        "  db.execute(\"create table HR(Name text, Age text,Gender text, Experience text, Tool_exp text, Remarks text)\")\r\n",
        "except:\r\n",
        "  print(\"Already table existed !!\")"
      ],
      "execution_count": 5,
      "outputs": [
        {
          "output_type": "stream",
          "text": [
            "Already table existed !!\n"
          ],
          "name": "stdout"
        }
      ]
    },
    {
      "cell_type": "code",
      "metadata": {
        "id": "BBsYtpXIovGO"
      },
      "source": [
        "def emp_input():\r\n",
        "  print('Enter employee details.')\r\n",
        "  name=input('Enter Employee name: ')\r\n",
        "  age=input('Enter age: ')\r\n",
        "  gender=input('Enter Gender: ')\r\n",
        "  exp=input('Enter total Experience: ')\r\n",
        "  tool=input('Enter tools details: ')\r\n",
        "  remark=input('Enter Employee remarks')\r\n",
        "  \r\n"
      ],
      "execution_count": 4,
      "outputs": []
    }
  ]
}