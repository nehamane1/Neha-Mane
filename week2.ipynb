{
  "nbformat": 4,
  "nbformat_minor": 0,
  "metadata": {
    "colab": {
      "name": "week2.ipynb",
      "provenance": [],
      "authorship_tag": "ABX9TyOx01t4221WSsZvhFaIYuXd",
      "include_colab_link": true
    },
    "kernelspec": {
      "name": "python3",
      "display_name": "Python 3"
    }
  },
  "cells": [
    {
      "cell_type": "markdown",
      "metadata": {
        "id": "view-in-github",
        "colab_type": "text"
      },
      "source": [
        "<a href=\"https://colab.research.google.com/github/nehamane1/Neha-Mane/blob/master/week2.ipynb\" target=\"_parent\"><img src=\"https://colab.research.google.com/assets/colab-badge.svg\" alt=\"Open In Colab\"/></a>"
      ]
    },
    {
      "cell_type": "code",
      "metadata": {
        "id": "DaCps6mrNlsy"
      },
      "source": [
        "#List\n",
        "marks=[50,60,70,80,60]"
      ],
      "execution_count": 2,
      "outputs": []
    },
    {
      "cell_type": "code",
      "metadata": {
        "id": "zdxcb9bQSa23"
      },
      "source": [
        "marks[0]=\"Neha\""
      ],
      "execution_count": 3,
      "outputs": []
    },
    {
      "cell_type": "code",
      "metadata": {
        "id": "cHxtrDmpSxDX",
        "outputId": "9cfdfb4a-2582-4a04-e7e2-941d021e69f3",
        "colab": {
          "base_uri": "https://localhost:8080/"
        }
      },
      "source": [
        "print(marks)"
      ],
      "execution_count": 4,
      "outputs": [
        {
          "output_type": "stream",
          "text": [
            "['Neha', 60, 70, 80, 60]\n"
          ],
          "name": "stdout"
        }
      ]
    },
    {
      "cell_type": "code",
      "metadata": {
        "id": "csBaisYiS0Uq"
      },
      "source": [
        "marks.append(\"Mane\")"
      ],
      "execution_count": 5,
      "outputs": []
    },
    {
      "cell_type": "code",
      "metadata": {
        "id": "dnPjVur9TSnX",
        "outputId": "daaad432-2548-4a22-9b25-442ddb38ed9b",
        "colab": {
          "base_uri": "https://localhost:8080/"
        }
      },
      "source": [
        "print(marks)"
      ],
      "execution_count": 6,
      "outputs": [
        {
          "output_type": "stream",
          "text": [
            "['Neha', 60, 70, 80, 60, 'Mane']\n"
          ],
          "name": "stdout"
        }
      ]
    },
    {
      "cell_type": "code",
      "metadata": {
        "id": "Q5Ju1GYYTVAC",
        "outputId": "ea61e395-97c7-4d24-e398-3b010e482540",
        "colab": {
          "base_uri": "https://localhost:8080/"
        }
      },
      "source": [
        "height=[132,154,231,55,345]\n",
        "height.pop(4)\n",
        "print(height)\n",
        "height.remove(154)\n",
        "print(height)"
      ],
      "execution_count": 9,
      "outputs": [
        {
          "output_type": "stream",
          "text": [
            "[132, 154, 231, 55]\n",
            "[132, 231, 55]\n"
          ],
          "name": "stdout"
        }
      ]
    },
    {
      "cell_type": "code",
      "metadata": {
        "id": "RI3uVv3lUrq4",
        "outputId": "9f239f06-2505-4aad-988f-d321ff073cd1",
        "colab": {
          "base_uri": "https://localhost:8080/"
        }
      },
      "source": [
        "marks.extend(height)\n",
        "print(marks)"
      ],
      "execution_count": 10,
      "outputs": [
        {
          "output_type": "stream",
          "text": [
            "['Neha', 60, 70, 80, 60, 'Mane', 132, 231, 55]\n"
          ],
          "name": "stdout"
        }
      ]
    },
    {
      "cell_type": "code",
      "metadata": {
        "id": "tBuquqYLVGS0",
        "outputId": "0c228cd1-ae56-45d2-b07c-2b52bcbbc206",
        "colab": {
          "base_uri": "https://localhost:8080/"
        }
      },
      "source": [
        "ph_no={\"Neha\":12345, \"Shav\":23456,\"Megh\":34567}\n",
        "query=\"Neha\"\n",
        "num=ph_no[query]\n",
        "print(\"Hello, for your query{},the phone number is {}\".format(query,num))"
      ],
      "execution_count": 3,
      "outputs": [
        {
          "output_type": "stream",
          "text": [
            "Hello, for your queryNeha,the phone number is 12345\n"
          ],
          "name": "stdout"
        }
      ]
    },
    {
      "cell_type": "code",
      "metadata": {
        "id": "TJDrFkn2cKTG"
      },
      "source": [
        ""
      ],
      "execution_count": null,
      "outputs": []
    }
  ]
}