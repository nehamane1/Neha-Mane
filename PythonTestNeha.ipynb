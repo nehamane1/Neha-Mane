{
  "nbformat": 4,
  "nbformat_minor": 0,
  "metadata": {
    "colab": {
      "name": "PythonTestNeha.ipynb",
      "provenance": [],
      "authorship_tag": "ABX9TyPVVUNTwhXtA9SqUt0k36jG",
      "include_colab_link": true
    },
    "kernelspec": {
      "name": "python3",
      "display_name": "Python 3"
    }
  },
  "cells": [
    {
      "cell_type": "markdown",
      "metadata": {
        "id": "view-in-github",
        "colab_type": "text"
      },
      "source": [
        "<a href=\"https://colab.research.google.com/github/nehamane1/Neha-Mane/blob/master/PythonTestNeha.ipynb\" target=\"_parent\"><img src=\"https://colab.research.google.com/assets/colab-badge.svg\" alt=\"Open In Colab\"/></a>"
      ]
    },
    {
      "cell_type": "code",
      "metadata": {
        "id": "FifkN4BrXSAP"
      },
      "source": [
        "#Group B,2\n",
        "#Zoom Room 5 Colab Link https://colab.research.google.com/drive/1qlsKn_JqCn1ofjsssldDXWlCyWv8TTcr?usp=sharing"
      ],
      "execution_count": null,
      "outputs": []
    },
    {
      "cell_type": "markdown",
      "metadata": {
        "id": "yKq3OhyIXn1i"
      },
      "source": [
        "Author: Neha Mane C\n",
        "\n",
        "CoAuthor: Somto"
      ]
    },
    {
      "cell_type": "markdown",
      "metadata": {
        "id": "uJbyuUOpXq1m"
      },
      "source": [
        "*Ques1*:\n",
        "Area of a circle\n",
        "> \n",
        "\n"
      ]
    },
    {
      "cell_type": "code",
      "metadata": {
        "id": "cazQvzbOX2DU",
        "outputId": "9073b0cf-8100-43cb-fa54-8f5b3b7d6a0f",
        "colab": {
          "base_uri": "https://localhost:8080/"
        }
      },
      "source": [
        "def areaOfCircle(radius):\n",
        "  print(\"Area of the circle is {}\".format(3.141*radius*radius))\n",
        "\n",
        "areaOfCircle(2.5)"
      ],
      "execution_count": 1,
      "outputs": [
        {
          "output_type": "stream",
          "text": [
            "Area of the circle is 19.63125\n"
          ],
          "name": "stdout"
        }
      ]
    },
    {
      "cell_type": "markdown",
      "metadata": {
        "id": "9-Rx9B2jX9ak"
      },
      "source": [
        "Ques 2: Program to print all Prime numbers in an Interval\n"
      ]
    },
    {
      "cell_type": "code",
      "metadata": {
        "id": "nODfP2xBYDBT",
        "outputId": "df077920-6f60-489c-b03e-9074d221c9b4",
        "colab": {
          "base_uri": "https://localhost:8080/"
        }
      },
      "source": [
        "lowRange = 20\n",
        "upperRange = 50\n",
        "\n",
        "print(\"The prime numbers between\", lowRange, \"and\", upperRange, \"are:\")\n",
        "\n",
        "for num in range(lowRange, upperRange + 1):\n",
        "   # all prime numbers are greater than 1\n",
        "   if num > 1:\n",
        "       for i in range(2, num):\n",
        "           if (num % i) == 0:\n",
        "               break\n",
        "       else:\n",
        "           print(num)\n"
      ],
      "execution_count": 2,
      "outputs": [
        {
          "output_type": "stream",
          "text": [
            "The prime numbers between 20 and 50 are:\n",
            "23\n",
            "29\n",
            "31\n",
            "37\n",
            "41\n",
            "43\n",
            "47\n"
          ],
          "name": "stdout"
        }
      ]
    },
    {
      "cell_type": "markdown",
      "metadata": {
        "id": "2gq8dF1IYIpo"
      },
      "source": [
        "Ques 3: Program to detect a prime number"
      ]
    },
    {
      "cell_type": "code",
      "metadata": {
        "id": "sEqDO5cBYNm9",
        "outputId": "46ffaf57-ff3b-4fc0-8aa8-223a3d1dfae3",
        "colab": {
          "base_uri": "https://localhost:8080/"
        }
      },
      "source": [
        "check_number = int(input(\"Enter a number: \"))\n",
        "\n",
        "if check_number > 1:\n",
        "    for i in range(2, check_number):\n",
        "        if (check_number % i) == 0:\n",
        "            print(check_number, \"is not a prime number\")\n",
        "            break\n",
        "    else:\n",
        "        print(check_number, \"is a prime number\")\n",
        "\n",
        "# if the entered number is less than or equal to 1\n",
        "# then it is not prime number\n",
        "else:\n",
        "    print(check_number, \"is not a prime number\")#"
      ],
      "execution_count": 4,
      "outputs": [
        {
          "output_type": "stream",
          "text": [
            "Enter a number: 7\n",
            "7 is a prime number\n"
          ],
          "name": "stdout"
        }
      ]
    },
    {
      "cell_type": "markdown",
      "metadata": {
        "id": "kySHqShYYkeu"
      },
      "source": [
        "Ques 5: Print Fibonacci"
      ]
    },
    {
      "cell_type": "code",
      "metadata": {
        "id": "zUqQdfVwYol0",
        "outputId": "10a8f60d-b045-43dd-cf4b-eafc15e1a91e",
        "colab": {
          "base_uri": "https://localhost:8080/"
        }
      },
      "source": [
        "nums = int(input(\"How many numbers? \"))\n",
        "\n",
        "# first two numbers\n",
        "a=0\n",
        "b=1\n",
        "count = 0\n",
        "\n",
        "# check if the number of terms is valid\n",
        "if nums <= 0:\n",
        "   print(\"Please enter a positive integer\")\n",
        "elif nums == 1:\n",
        "   print(\"Fibonacci sequence upto\",nums,\":\")\n",
        "   print(a)\n",
        "else:\n",
        "   print(\"Fibonacci sequence:\")\n",
        "   while count < nums:\n",
        "       print(a)\n",
        "       sum = a + b\n",
        "       # update values\n",
        "       a = b\n",
        "       b = sum\n",
        "       count += 1"
      ],
      "execution_count": 5,
      "outputs": [
        {
          "output_type": "stream",
          "text": [
            "How many numbers? 10\n",
            "Fibonacci sequence:\n",
            "0\n",
            "1\n",
            "1\n",
            "2\n",
            "3\n",
            "5\n",
            "8\n",
            "13\n",
            "21\n",
            "34\n"
          ],
          "name": "stdout"
        }
      ]
    },
    {
      "cell_type": "markdown",
      "metadata": {
        "id": "AHiYKSaFYul6"
      },
      "source": [
        "Question 8: Count odd and even numbers in a list"
      ]
    },
    {
      "cell_type": "code",
      "metadata": {
        "id": "J26r5BdYYx4Z",
        "outputId": "9f4060fe-3671-4b51-e77a-2a4348d96975",
        "colab": {
          "base_uri": "https://localhost:8080/"
        }
      },
      "source": [
        "num_list = [-1,2,-3,4,5,-6,7,-8,9] \n",
        "  \n",
        "count_positive = 0\n",
        "count_negative = 0\n",
        "\n",
        "for num in num_list: \n",
        "  if num >= 0: \n",
        "    count_positive += 1\n",
        "  else: \n",
        "        count_negative += 1\n",
        "          \n",
        "print(\"There are {} even numbers in the list\".format(count_positive)) \n",
        "print(\"There are {} odd numbers in the list \".format(count_negative)) "
      ],
      "execution_count": 6,
      "outputs": [
        {
          "output_type": "stream",
          "text": [
            "There are 5 even numbers in the list\n",
            "There are 4 odd numbers in the list \n"
          ],
          "name": "stdout"
        }
      ]
    },
    {
      "cell_type": "markdown",
      "metadata": {
        "id": "0uV_MVYNZBvs"
      },
      "source": [
        "Question:9 Program to print positive numbers"
      ]
    },
    {
      "cell_type": "code",
      "metadata": {
        "id": "tXLRawPzZGdy",
        "outputId": "58a1be06-304f-453d-fd10-82fe57ca775c",
        "colab": {
          "base_uri": "https://localhost:8080/"
        }
      },
      "source": [
        "num_list = [-1,-2,3,4,5,-6,-7,8,9]\n",
        "\n",
        "# num = int(input(\"Enter a number: \"))\n",
        "for num in num_list:\n",
        "  if num > 0:\n",
        "    print(\"{} is a positive number\". format(num))"
      ],
      "execution_count": 7,
      "outputs": [
        {
          "output_type": "stream",
          "text": [
            "3 is a positive number\n",
            "4 is a positive number\n",
            "5 is a positive number\n",
            "8 is a positive number\n",
            "9 is a positive number\n"
          ],
          "name": "stdout"
        }
      ]
    },
    {
      "cell_type": "markdown",
      "metadata": {
        "id": "2MFcdiFXZK0s"
      },
      "source": [
        "Question:10 Program to print negative numbers"
      ]
    },
    {
      "cell_type": "code",
      "metadata": {
        "id": "INVlq_ExZOfe",
        "outputId": "eb27d382-5f81-447f-ae23-31931e30e9a3",
        "colab": {
          "base_uri": "https://localhost:8080/"
        }
      },
      "source": [
        "num_list = [1,-2,-3,4,-5,6,7,8,-9]\n",
        "\n",
        "# num = int(input(\"Enter a number: \"))\n",
        "for num in num_list:\n",
        "  if num <=0:\n",
        "    print(\"{} is an negative number\". format(num))"
      ],
      "execution_count": 8,
      "outputs": [
        {
          "output_type": "stream",
          "text": [
            "-2 is an negative number\n",
            "-3 is an negative number\n",
            "-5 is an negative number\n",
            "-9 is an negative number\n"
          ],
          "name": "stdout"
        }
      ]
    },
    {
      "cell_type": "markdown",
      "metadata": {
        "id": "5oMJu1DXZVUR"
      },
      "source": [
        "Ques 11: Program to print all positive numbers in a range"
      ]
    },
    {
      "cell_type": "code",
      "metadata": {
        "id": "SQ_n2KCLZZp-",
        "outputId": "770bd421-ae8b-41bf-e936-b648da6c60de",
        "colab": {
          "base_uri": "https://localhost:8080/"
        }
      },
      "source": [
        "num_range = range(-5, 5)\n",
        "\n",
        "for num in num_range:\n",
        "  if num >= 0: \n",
        "    print(num, end = \" \") "
      ],
      "execution_count": 9,
      "outputs": [
        {
          "output_type": "stream",
          "text": [
            "0 1 2 3 4 "
          ],
          "name": "stdout"
        }
      ]
    },
    {
      "cell_type": "markdown",
      "metadata": {
        "id": "gmZQeufQZfIm"
      },
      "source": [
        "Ques 12: Program to print all negative numbers in a range"
      ]
    },
    {
      "cell_type": "code",
      "metadata": {
        "id": "vt7YxmNRZjsc",
        "outputId": "f4572dcb-5956-471c-8d01-d405e37b6112",
        "colab": {
          "base_uri": "https://localhost:8080/"
        }
      },
      "source": [
        "num_range = range(-4, 10)\n",
        "\n",
        "for num in num_range:\n",
        "  if num < 0:\n",
        "    print(\"{} is a negative number\". format(num))"
      ],
      "execution_count": 10,
      "outputs": [
        {
          "output_type": "stream",
          "text": [
            "-4 is a negative number\n",
            "-3 is a negative number\n",
            "-2 is a negative number\n",
            "-1 is a negative number\n"
          ],
          "name": "stdout"
        }
      ]
    },
    {
      "cell_type": "markdown",
      "metadata": {
        "id": "C6d2t95UZo7e"
      },
      "source": [
        "Ques:13 Program to count positive and negative numbers in a list"
      ]
    },
    {
      "cell_type": "code",
      "metadata": {
        "id": "VECtAxl4Zs4k",
        "outputId": "6e90506c-a28b-4f7e-a8d0-ac53ca460813",
        "colab": {
          "base_uri": "https://localhost:8080/"
        }
      },
      "source": [
        "num_new_list = [-5,-4,-3,-11,2,3,4,5,6,7,8,9] \n",
        "  \n",
        "count_positive = 0\n",
        "count_negative = 0\n",
        "\n",
        "for num in num_new_list: \n",
        "  if num >= 0: \n",
        "    count_positive += 1\n",
        "  else: \n",
        "        count_negative += 1\n",
        "          \n",
        "print(\"There are {} positive numbers in the list\".format(count_positive)) \n",
        "print(\"There are {} negative numbers in the list \".format(count_negative))"
      ],
      "execution_count": 11,
      "outputs": [
        {
          "output_type": "stream",
          "text": [
            "There are 8 positive numbers in the list\n",
            "There are 4 negative numbers in the list \n"
          ],
          "name": "stdout"
        }
      ]
    }
  ]
}