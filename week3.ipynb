{
  "nbformat": 4,
  "nbformat_minor": 0,
  "metadata": {
    "colab": {
      "name": "week3.ipynb",
      "provenance": [],
      "authorship_tag": "ABX9TyOMyoOWR3EuzgC9kCLjd9o2",
      "include_colab_link": true
    },
    "kernelspec": {
      "name": "python3",
      "display_name": "Python 3"
    }
  },
  "cells": [
    {
      "cell_type": "markdown",
      "metadata": {
        "id": "view-in-github",
        "colab_type": "text"
      },
      "source": [
        "<a href=\"https://colab.research.google.com/github/nehamane1/Neha-Mane/blob/master/week3.ipynb\" target=\"_parent\"><img src=\"https://colab.research.google.com/assets/colab-badge.svg\" alt=\"Open In Colab\"/></a>"
      ]
    },
    {
      "cell_type": "code",
      "metadata": {
        "id": "HltvpNr1VvuZ"
      },
      "source": [
        "#functions\n",
        "def inc_tax(salary):\n",
        "  tax=salary*0.4\n",
        "  print(\"Tax for {} is {}\" .format(salary,tax))"
      ],
      "execution_count": 8,
      "outputs": []
    },
    {
      "cell_type": "code",
      "metadata": {
        "id": "oqRETI4eWRM3",
        "outputId": "5a898c0c-96df-4738-b300-ed4c45bec0d1",
        "colab": {
          "base_uri": "https://localhost:8080/"
        }
      },
      "source": [
        "inc_tax(2)"
      ],
      "execution_count": 10,
      "outputs": [
        {
          "output_type": "stream",
          "text": [
            "Tax for 2 is 0.8\n"
          ],
          "name": "stdout"
        }
      ]
    },
    {
      "cell_type": "code",
      "metadata": {
        "id": "41e2HHwmWYAG",
        "outputId": "1a7ceb83-cfe0-4d93-a301-e7a6c8b8b1ed",
        "colab": {
          "base_uri": "https://localhost:8080/"
        }
      },
      "source": [
        "#lambda\n",
        "tax= lambda salary:salary*0.4\n",
        "\n",
        "tax(2000)"
      ],
      "execution_count": 12,
      "outputs": [
        {
          "output_type": "execute_result",
          "data": {
            "text/plain": [
              "800.0"
            ]
          },
          "metadata": {
            "tags": []
          },
          "execution_count": 12
        }
      ]
    },
    {
      "cell_type": "markdown",
      "metadata": {
        "id": "netetMvYapff"
      },
      "source": [
        "Fibonacchi Series"
      ]
    },
    {
      "cell_type": "code",
      "metadata": {
        "id": "Z8RCeJEJayrI",
        "outputId": "69dac3b0-9cf5-42ea-faef-c0d936ba3023",
        "colab": {
          "base_uri": "https://localhost:8080/"
        }
      },
      "source": [
        "nums = int(input(\"How many  numbers? \"))\n",
        "\n",
        "# first two numbers\n",
        "a=0\n",
        "b=1\n",
        "count = 0\n",
        "\n",
        "# check if the number of terms is valid\n",
        "if nums <= 0:\n",
        "   print(\"Please enter a positive integer\")\n",
        "elif nums == 1:\n",
        "   print(\"Fibonacci sequence upto\",nums,\":\")\n",
        "   print(a)\n",
        "else:\n",
        "   print(\"Fibonacci sequence:\")\n",
        "   while count < nums:\n",
        "       print(a)\n",
        "       sum = a + b\n",
        "       # update values\n",
        "       a = b\n",
        "       b = sum\n",
        "       count += 1\n"
      ],
      "execution_count": 15,
      "outputs": [
        {
          "output_type": "stream",
          "text": [
            "How many  numbers? 10\n",
            "Fibonacci sequence:\n",
            "0\n",
            "1\n",
            "1\n",
            "2\n",
            "3\n",
            "5\n",
            "8\n",
            "13\n",
            "21\n",
            "34\n"
          ],
          "name": "stdout"
        }
      ]
    },
    {
      "cell_type": "code",
      "metadata": {
        "id": "yUhRFRaubsPc",
        "outputId": "f56cded2-b3e8-407a-eb1e-7e889f494eca",
        "colab": {
          "base_uri": "https://localhost:8080/"
        }
      },
      "source": [
        "#File systems\n",
        "bio= input(\"Please enter your biography\")\n",
        "len1=len(bio)\n",
        "print(len1)\n",
        "\n",
        "if len1==20:\n",
        "  with open (\"test.txt\",\"w+\") as f:\n",
        "    f.write(bio)\n",
        "elif len1>20:\n",
        "  print(\"You have exceeded the character limit\")\n",
        "else:\n",
        "  print(\"u haave less words\")"
      ],
      "execution_count": 26,
      "outputs": [
        {
          "output_type": "stream",
          "text": [
            "Please enter your biographymjuyhygtftrtyuikjhgf\n",
            "20\n"
          ],
          "name": "stdout"
        }
      ]
    },
    {
      "cell_type": "code",
      "metadata": {
        "id": "rg4Gsa23n8UN"
      },
      "source": [
        ""
      ],
      "execution_count": null,
      "outputs": []
    }
  ]
}