{
  "nbformat": 4,
  "nbformat_minor": 0,
  "metadata": {
    "colab": {
      "name": "group5programmingtest1.ipynb",
      "provenance": [],
      "collapsed_sections": [],
      "include_colab_link": true
    },
    "kernelspec": {
      "name": "python3",
      "display_name": "Python 3"
    }
  },
  "cells": [
    {
      "cell_type": "markdown",
      "metadata": {
        "id": "view-in-github",
        "colab_type": "text"
      },
      "source": [
        "<a href=\"https://colab.research.google.com/github/nehamane1/Neha-Mane/blob/master/group5programmingtest1.ipynb\" target=\"_parent\"><img src=\"https://colab.research.google.com/assets/colab-badge.svg\" alt=\"Open In Colab\"/></a>"
      ]
    },
    {
      "cell_type": "markdown",
      "metadata": {
        "id": "iFh88QtX8lMb"
      },
      "source": [
        "Ques1:\n",
        "Area of a circle"
      ]
    },
    {
      "cell_type": "code",
      "metadata": {
        "id": "6Wa4VTlQ-rsr",
        "outputId": "82c038a9-99ec-4476-8043-258f1539d6c5",
        "colab": {
          "base_uri": "https://localhost:8080/"
        }
      },
      "source": [
        "def areaOfCircle(radius):\n",
        "  print(\"Area of the circle is {}\".format(3.141*radius*radius))\n",
        "\n",
        "areaOfCircle(2.5)"
      ],
      "execution_count": null,
      "outputs": [
        {
          "output_type": "stream",
          "text": [
            "Area of the circle is 19.63125\n"
          ],
          "name": "stdout"
        }
      ]
    },
    {
      "cell_type": "markdown",
      "metadata": {
        "id": "-1gRLbAZ_-kZ"
      },
      "source": [
        "Ques 2: Program to print all Prime numbers in an Interval\n"
      ]
    },
    {
      "cell_type": "code",
      "metadata": {
        "id": "RsEshgb9BYua",
        "outputId": "8521d588-e4c2-40c7-fc57-4b7840b9e3e4",
        "colab": {
          "base_uri": "https://localhost:8080/"
        }
      },
      "source": [
        "lowRange = 20\n",
        "upperRange = 50\n",
        "\n",
        "print(\"The prime numbers between\", lowRange, \"and\", upperRange, \"are:\")\n",
        "\n",
        "for num in range(lowRange, upperRange + 1):\n",
        "   # all prime numbers are greater than 1\n",
        "   if num > 1:\n",
        "       for i in range(2, num):\n",
        "           if (num % i) == 0:\n",
        "               break\n",
        "       else:\n",
        "           print(num)\n"
      ],
      "execution_count": null,
      "outputs": [
        {
          "output_type": "stream",
          "text": [
            "Prime numbers between 20 and 50 are:\n",
            "23\n",
            "29\n",
            "31\n",
            "37\n",
            "41\n",
            "43\n",
            "47\n"
          ],
          "name": "stdout"
        }
      ]
    },
    {
      "cell_type": "markdown",
      "metadata": {
        "id": "zg92zhb0CelV"
      },
      "source": [
        "Ques 3: Program to detect a prime number"
      ]
    },
    {
      "cell_type": "code",
      "metadata": {
        "id": "z05kUa0ECp-J",
        "outputId": "a553a6cc-280e-426c-a6d3-6175e16220f1",
        "colab": {
          "base_uri": "https://localhost:8080/"
        }
      },
      "source": [
        "check_number = int(input(\"Enter a number: \"))\n",
        "\n",
        "if check_number > 1:\n",
        "    for i in range(2, check_number):\n",
        "        if (check_number % i) == 0:\n",
        "            print(check_number, \"is not a prime number\")\n",
        "            break\n",
        "    else:\n",
        "        print(check_number, \"is a prime number\")\n",
        "\n",
        "# if the entered number is less than or equal to 1\n",
        "# then it is not prime number\n",
        "else:\n",
        "    print(check_number, \"is not a prime number\")"
      ],
      "execution_count": null,
      "outputs": [
        {
          "output_type": "stream",
          "text": [
            "Enter a number: 1001\n",
            "1001 is not a prime number\n"
          ],
          "name": "stdout"
        }
      ]
    },
    {
      "cell_type": "markdown",
      "metadata": {
        "id": "2S5_pt_jC-zV"
      },
      "source": [
        "Ques 5: Print Fibonacci\n",
        "\n"
      ]
    },
    {
      "cell_type": "code",
      "metadata": {
        "id": "NVdUhZvbDWn0",
        "outputId": "2f22924f-dee3-48fb-f462-e49d095c32ef",
        "colab": {
          "base_uri": "https://localhost:8080/"
        }
      },
      "source": [
        "nums = int(input(\"How many numbers? \"))\n",
        "\n",
        "# first two numbers\n",
        "a=0\n",
        "b=1\n",
        "count = 0\n",
        "\n",
        "# check if the number of terms is valid\n",
        "if nums <= 0:\n",
        "   print(\"Please enter a positive integer\")\n",
        "elif nums == 1:\n",
        "   print(\"Fibonacci sequence upto\",nums,\":\")\n",
        "   print(a)\n",
        "else:\n",
        "   print(\"Fibonacci sequence:\")\n",
        "   while count < nums:\n",
        "       print(a)\n",
        "       sum = a + b\n",
        "       # update values\n",
        "       a = b\n",
        "       b = sum\n",
        "       count += 1"
      ],
      "execution_count": null,
      "outputs": [
        {
          "output_type": "stream",
          "text": [
            "How many numbers? 15\n",
            "Fibonacci sequence:\n",
            "0\n",
            "1\n",
            "1\n",
            "2\n",
            "3\n",
            "5\n",
            "8\n",
            "13\n",
            "21\n",
            "34\n",
            "55\n",
            "89\n",
            "144\n",
            "233\n",
            "377\n"
          ],
          "name": "stdout"
        }
      ]
    },
    {
      "cell_type": "markdown",
      "metadata": {
        "id": "MMEKWkDNErsU"
      },
      "source": [
        "Question 8: Count odd and even numbers in a list\n"
      ]
    },
    {
      "cell_type": "code",
      "metadata": {
        "id": "bf6r2LTnIH9i",
        "outputId": "4ce4bc09-7595-435c-d63d-75aaee28c49e",
        "colab": {
          "base_uri": "https://localhost:8080/"
        }
      },
      "source": [
        "num_list = [1,2,3,4,5,6,7,8,9] \n",
        "  \n",
        "count_positive = 0\n",
        "count_negative = 0\n",
        "\n",
        "for num in num_list: \n",
        "  if num >= 0 and num%2 == 0: \n",
        "    count_positive += 1\n",
        "  else: \n",
        "        count_negative += 1\n",
        "          \n",
        "print(\"There are {} even numbers in the list\".format(count_positive)) \n",
        "print(\"There are {} odd numbers in the list \".format(count_negative)) "
      ],
      "execution_count": null,
      "outputs": [
        {
          "output_type": "stream",
          "text": [
            "There are 4 even numbers in the list\n",
            "There are 5 odd numbers in the list \n"
          ],
          "name": "stdout"
        }
      ]
    },
    {
      "cell_type": "markdown",
      "metadata": {
        "id": "NZ0IiCPTG4oe"
      },
      "source": [
        "Question:9 Program to print positive numbers"
      ]
    },
    {
      "cell_type": "code",
      "metadata": {
        "id": "y3pRWIBAHArI",
        "outputId": "4d6990a1-99cf-431e-d572-458c35def863",
        "colab": {
          "base_uri": "https://localhost:8080/"
        }
      },
      "source": [
        "num_list = [1,2,3,4,5,6,7,8,9]\n",
        "\n",
        "# num = int(input(\"Enter a number: \"))\n",
        "for num in num_list:\n",
        "  if (num % 2) == 0:\n",
        "    print(\"{} is a positive number\". format(num))\n"
      ],
      "execution_count": null,
      "outputs": [
        {
          "output_type": "stream",
          "text": [
            "2 is an positive number\n",
            "4 is an positive number\n",
            "6 is an positive number\n",
            "8 is an positive number\n"
          ],
          "name": "stdout"
        }
      ]
    },
    {
      "cell_type": "markdown",
      "metadata": {
        "id": "18BcBUKzHfJ9"
      },
      "source": [
        "Question:10 Program to print negative numbers"
      ]
    },
    {
      "cell_type": "code",
      "metadata": {
        "id": "BtmAc-btHhiy",
        "outputId": "847c6267-e7d0-412a-a7d0-bd1239a20db6",
        "colab": {
          "base_uri": "https://localhost:8080/"
        }
      },
      "source": [
        "num_list = [1,-2,-3,4,-5,6,7,8,-9]\n",
        "\n",
        "# num = int(input(\"Enter a number: \"))\n",
        "for num in num_list:\n",
        "  if num <=0:\n",
        "    print(\"{} is an negative number\". format(num))\n",
        "  "
      ],
      "execution_count": null,
      "outputs": [
        {
          "output_type": "stream",
          "text": [
            "-2 is an negative number\n",
            "-3 is an negative number\n",
            "-5 is an negative number\n",
            "-9 is an negative number\n"
          ],
          "name": "stdout"
        }
      ]
    },
    {
      "cell_type": "markdown",
      "metadata": {
        "id": "9I3DV-_bLHh7"
      },
      "source": [
        "Ques 11: Program to print all positive numbers in a range\n"
      ]
    },
    {
      "cell_type": "code",
      "metadata": {
        "id": "tWjSPQRMKZuk",
        "outputId": "23abf88c-a503-4ccf-e0e5-7e681fc5a25e",
        "colab": {
          "base_uri": "https://localhost:8080/"
        }
      },
      "source": [
        "num_range = range(-5, 5)\n",
        "\n",
        "for num in num_range:\n",
        "  if num >= 0: \n",
        "    print(num, end = \" \") "
      ],
      "execution_count": null,
      "outputs": [
        {
          "output_type": "stream",
          "text": [
            "0 1 2 3 4 "
          ],
          "name": "stdout"
        }
      ]
    },
    {
      "cell_type": "markdown",
      "metadata": {
        "id": "xsC8QBS8Ldtl"
      },
      "source": [
        "Ques 12: Program to print all negative numbers in a range"
      ]
    },
    {
      "cell_type": "code",
      "metadata": {
        "id": "AhV20kPqLcdg",
        "outputId": "a62b9764-62d5-4614-c747-f57debc6ca57",
        "colab": {
          "base_uri": "https://localhost:8080/"
        }
      },
      "source": [
        "num_range = range(-4, 10)\n",
        "\n",
        "for num in num_range:\n",
        "  if num < 0:\n",
        "    print(\"{} is a negative number\". format(num))"
      ],
      "execution_count": null,
      "outputs": [
        {
          "output_type": "stream",
          "text": [
            "-4 is a negative number\n",
            "-3 is a negative number\n",
            "-2 is a negative number\n",
            "-1 is a negative number\n"
          ],
          "name": "stdout"
        }
      ]
    },
    {
      "cell_type": "code",
      "metadata": {
        "id": "OwQpGipyLpQD"
      },
      "source": [
        ""
      ],
      "execution_count": null,
      "outputs": []
    },
    {
      "cell_type": "markdown",
      "metadata": {
        "id": "M8vHIHDvL77o"
      },
      "source": [
        "Ques:13 \n",
        "Program to count positive and negative numbers in a list\n"
      ]
    },
    {
      "cell_type": "code",
      "metadata": {
        "id": "NadPn75FL-Wb",
        "outputId": "6c92b680-b437-4389-8e77-e65e3aa9021e",
        "colab": {
          "base_uri": "https://localhost:8080/"
        }
      },
      "source": [
        "num_new_list = [-5,-4,-3,-11,2,3,4,5,6,7,8,9] \n",
        "  \n",
        "count_positive = 0\n",
        "count_negative = 0\n",
        "\n",
        "for num in num_list: \n",
        "  if num >= 0: \n",
        "    count_positive += 1\n",
        "  else: \n",
        "        count_negative += 1\n",
        "          \n",
        "print(\"There are {} positive numbers in the list\".format(count_positive)) \n",
        "print(\"There are {} negative numbers in the list \".format(count_negative))"
      ],
      "execution_count": null,
      "outputs": [
        {
          "output_type": "stream",
          "text": [
            "There are 5 positive numbers in the list\n",
            "There are 4 negative numbers in the list \n"
          ],
          "name": "stdout"
        }
      ]
    },
    {
      "cell_type": "code",
      "metadata": {
        "id": "ORoR5oMZMPv-"
      },
      "source": [
        ""
      ],
      "execution_count": null,
      "outputs": []
    }
  ]
}