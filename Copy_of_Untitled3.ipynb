{
  "nbformat": 4,
  "nbformat_minor": 0,
  "metadata": {
    "colab": {
      "name": "Copy of Untitled3.ipynb",
      "provenance": [],
      "include_colab_link": true
    },
    "kernelspec": {
      "name": "python3",
      "display_name": "Python 3"
    }
  },
  "cells": [
    {
      "cell_type": "markdown",
      "metadata": {
        "id": "view-in-github",
        "colab_type": "text"
      },
      "source": [
        "<a href=\"https://colab.research.google.com/github/nehamane1/Neha-Mane/blob/master/Copy_of_Untitled3.ipynb\" target=\"_parent\"><img src=\"https://colab.research.google.com/assets/colab-badge.svg\" alt=\"Open In Colab\"/></a>"
      ]
    },
    {
      "cell_type": "code",
      "metadata": {
        "id": "o8mxF8XDvH72"
      },
      "source": [
        "class employee():\r\n",
        "   \r\n",
        "  salary_raise=1.5\r\n",
        "  def __init__(self,name,salary):\r\n",
        "      self.name=name\r\n",
        "      self.salary=int(salary)\r\n",
        "      self.salary_raise=2\r\n",
        "   \r\n",
        "  def incre(self):\r\n",
        "     self.salary=int(self.salary*self.salary_raise)\r\n",
        "\r\n",
        "  def __add__(self,other):\r\n",
        "    return (self.name+other.name)\r\n",
        "\r\n",
        "Neh=employee(\"Neha\",\"2000\")\r\n",
        "Shav=employee(\"Shav\",\"5000\") \r\n",
        "\r\n",
        "print(Neh+Shav)"
      ],
      "execution_count": null,
      "outputs": []
    }
  ]
}